{
  "nbformat": 4,
  "nbformat_minor": 0,
  "metadata": {
    "kernelspec": {
      "display_name": "Python 3",
      "language": "python",
      "name": "python3"
    },
    "language_info": {
      "codemirror_mode": {
        "name": "ipython",
        "version": 3
      },
      "file_extension": ".py",
      "mimetype": "text/x-python",
      "name": "python",
      "nbconvert_exporter": "python",
      "pygments_lexer": "ipython3",
      "version": "3.8.3"
    },
    "colab": {
      "name": "Untitled.ipynb",
      "provenance": [],
      "toc_visible": true
    }
  },
  "cells": [
    {
      "cell_type": "code",
      "metadata": {
        "id": "wQW_jkRH0LTR"
      },
      "source": [
        "import pandas as pd\n",
        "import numpy as np\n",
        "import matplotlib.pyplot as plt\n",
        "from scipy import stats\n",
        "import seaborn as sns\n",
        "\n",
        "pd.options.display.precision = 4 # Para 4 decimales."
      ],
      "execution_count": 7,
      "outputs": []
    },
    {
      "cell_type": "markdown",
      "metadata": {
        "id": "86NNl1RX0LTV"
      },
      "source": [
        "# Introducción"
      ]
    },
    {
      "cell_type": "markdown",
      "metadata": {
        "id": "M0NwCooZ0LTW"
      },
      "source": [
        "En un laboratorio se llevó a cabo un experimento bajo distintas condiciones para determinar la influencia que el nivel de temperatura y la naturaleza ácida de cierto caldo de cultivo tienen sobre el crecimiento de una población de bacterias.\n",
        "\n",
        "En este documento se plantea, se ajusta y se analiza un modelo de regresión lineal a partir de los resultados del experimento tomando como respuesta al número final de bacterias después de 48 horas de una población inicial de 1000 y como regresores a los factores de Temperatura (30 ºC, 60 ºC o 90 ºC), tipo de Cultivo (Básico o Ácido) y Concentración (Baja o Alta) con el propósito de obtener conclusiones sobre los resultados del experimento realizado."
      ]
    },
    {
      "cell_type": "markdown",
      "metadata": {
        "id": "DErZrQF-0LTW"
      },
      "source": [
        "A continuación se muestran algunas entradas del conjunto de datos considerado."
      ]
    },
    {
      "cell_type": "code",
      "metadata": {
        "id": "IS-r_68r0LTX",
        "outputId": "e24c8946-c9e8-436f-b827-025a8f37be31",
        "colab": {
          "base_uri": "https://localhost:8080/",
          "height": 155
        }
      },
      "source": [
        "df = pd.read_csv(\"bacterias.csv\")\n",
        "sample = (df.sample(5)) # El head se ve muy aburrido\n",
        "sample = sample.style.set_caption(f\"Tabla 1. Muestra aleatoria del conjunto de datos\")\n",
        "display(sample)"
      ],
      "execution_count": 8,
      "outputs": [
        {
          "output_type": "display_data",
          "data": {
            "text/html": [
              "<style  type=\"text/css\" >\n",
              "</style><table id=\"T_785a2e34_119a_11eb_9637_0242ac1c0002\" ><caption>Tabla 1. Muestra aleatoria del conjunto de datos</caption><thead>    <tr>        <th class=\"blank level0\" ></th>        <th class=\"col_heading level0 col0\" >Temperatura [ºC]</th>        <th class=\"col_heading level0 col1\" >Cultivo</th>        <th class=\"col_heading level0 col2\" >Concentración</th>        <th class=\"col_heading level0 col3\" >Número final de bacterias</th>    </tr></thead><tbody>\n",
              "                <tr>\n",
              "                        <th id=\"T_785a2e34_119a_11eb_9637_0242ac1c0002level0_row0\" class=\"row_heading level0 row0\" >45</th>\n",
              "                        <td id=\"T_785a2e34_119a_11eb_9637_0242ac1c0002row0_col0\" class=\"data row0 col0\" >90</td>\n",
              "                        <td id=\"T_785a2e34_119a_11eb_9637_0242ac1c0002row0_col1\" class=\"data row0 col1\" >Básico</td>\n",
              "                        <td id=\"T_785a2e34_119a_11eb_9637_0242ac1c0002row0_col2\" class=\"data row0 col2\" >Alta</td>\n",
              "                        <td id=\"T_785a2e34_119a_11eb_9637_0242ac1c0002row0_col3\" class=\"data row0 col3\" >96</td>\n",
              "            </tr>\n",
              "            <tr>\n",
              "                        <th id=\"T_785a2e34_119a_11eb_9637_0242ac1c0002level0_row1\" class=\"row_heading level0 row1\" >3</th>\n",
              "                        <td id=\"T_785a2e34_119a_11eb_9637_0242ac1c0002row1_col0\" class=\"data row1 col0\" >30</td>\n",
              "                        <td id=\"T_785a2e34_119a_11eb_9637_0242ac1c0002row1_col1\" class=\"data row1 col1\" >Básico</td>\n",
              "                        <td id=\"T_785a2e34_119a_11eb_9637_0242ac1c0002row1_col2\" class=\"data row1 col2\" >Baja</td>\n",
              "                        <td id=\"T_785a2e34_119a_11eb_9637_0242ac1c0002row1_col3\" class=\"data row1 col3\" >94</td>\n",
              "            </tr>\n",
              "            <tr>\n",
              "                        <th id=\"T_785a2e34_119a_11eb_9637_0242ac1c0002level0_row2\" class=\"row_heading level0 row2\" >19</th>\n",
              "                        <td id=\"T_785a2e34_119a_11eb_9637_0242ac1c0002row2_col0\" class=\"data row2 col0\" >30</td>\n",
              "                        <td id=\"T_785a2e34_119a_11eb_9637_0242ac1c0002row2_col1\" class=\"data row2 col1\" >Ácido</td>\n",
              "                        <td id=\"T_785a2e34_119a_11eb_9637_0242ac1c0002row2_col2\" class=\"data row2 col2\" >Alta</td>\n",
              "                        <td id=\"T_785a2e34_119a_11eb_9637_0242ac1c0002row2_col3\" class=\"data row2 col3\" >99</td>\n",
              "            </tr>\n",
              "            <tr>\n",
              "                        <th id=\"T_785a2e34_119a_11eb_9637_0242ac1c0002level0_row3\" class=\"row_heading level0 row3\" >14</th>\n",
              "                        <td id=\"T_785a2e34_119a_11eb_9637_0242ac1c0002row3_col0\" class=\"data row3 col0\" >30</td>\n",
              "                        <td id=\"T_785a2e34_119a_11eb_9637_0242ac1c0002row3_col1\" class=\"data row3 col1\" >Ácido</td>\n",
              "                        <td id=\"T_785a2e34_119a_11eb_9637_0242ac1c0002row3_col2\" class=\"data row3 col2\" >Baja</td>\n",
              "                        <td id=\"T_785a2e34_119a_11eb_9637_0242ac1c0002row3_col3\" class=\"data row3 col3\" >101</td>\n",
              "            </tr>\n",
              "            <tr>\n",
              "                        <th id=\"T_785a2e34_119a_11eb_9637_0242ac1c0002level0_row4\" class=\"row_heading level0 row4\" >56</th>\n",
              "                        <td id=\"T_785a2e34_119a_11eb_9637_0242ac1c0002row4_col0\" class=\"data row4 col0\" >90</td>\n",
              "                        <td id=\"T_785a2e34_119a_11eb_9637_0242ac1c0002row4_col1\" class=\"data row4 col1\" >Ácido</td>\n",
              "                        <td id=\"T_785a2e34_119a_11eb_9637_0242ac1c0002row4_col2\" class=\"data row4 col2\" >Alta</td>\n",
              "                        <td id=\"T_785a2e34_119a_11eb_9637_0242ac1c0002row4_col3\" class=\"data row4 col3\" >98</td>\n",
              "            </tr>\n",
              "    </tbody></table>"
            ],
            "text/plain": [
              "<pandas.io.formats.style.Styler at 0x7f831cc7f9e8>"
            ]
          },
          "metadata": {
            "tags": []
          }
        }
      ]
    },
    {
      "cell_type": "code",
      "metadata": {
        "id": "LA64AwQI0LTb"
      },
      "source": [
        "categorical = [\"Temperatura [ºC]\", \"Cultivo\", \"Concentración\"]\n",
        "y = \"Número final de bacterias\""
      ],
      "execution_count": 9,
      "outputs": []
    },
    {
      "cell_type": "markdown",
      "metadata": {
        "id": "wwiWiSBF0LTe"
      },
      "source": [
        "# 1. Describa los datos gráficamente."
      ]
    },
    {
      "cell_type": "markdown",
      "metadata": {
        "id": "3SLyGj1p0LTf"
      },
      "source": [
        "Como los factores de interés son `Temperatura` (30 ºC, 60 ºC o 90 ºC) y `Cultivo` (Básico o Ácido), se considera un total de 6 tratamientos distintos, cada uno con dos niveles de `Concentración` (Baja o Alta). En la Figura 1. se encuentran las gráficas de caja y brazo (*boxplots* en inglés) para cada uno de los tratamientos considerados. En el eje vertical se encuentra el `Número final de bacterias`, es decir, la respuesta, y en el eje horizontal se encuentran todos los tratamientos tratamientos considerados junto con una descripción de los parámetros de cada uno."
      ]
    },
    {
      "cell_type": "code",
      "metadata": {
        "id": "uA3M2ImM0LTg",
        "outputId": "43cee254-6fe1-40a5-9150-b371c04860a0",
        "colab": {
          "base_uri": "https://localhost:8080/",
          "height": 991
        }
      },
      "source": [
        "temperaturas = df[\"Temperatura [ºC]\"].unique()\n",
        "\n",
        "colors = {\"Básico\": \"#3a86ff\",\n",
        "          \"Ácido\": \"#ff006e\"}\n",
        "n = len(colors)\n",
        "\n",
        "markers = {\"Baja\": \"v\",\n",
        "           \"Alta\": \"^\"}\n",
        "\n",
        "# Tamaños de fuente\n",
        "big = 18\n",
        "small = 16\n",
        "\n",
        "s = 300\n",
        "\n",
        "data = []\n",
        "ticks = []\n",
        "ticks_labels = []\n",
        "\n",
        "panel_id = [[\"a) \", \"b) \"], [\"c) \", \"d) \"], [\"e) \", \"f) \"]]\n",
        "\n",
        "plt.figure(figsize = (20, 15))\n",
        "\n",
        "for i, temperatura in enumerate(temperaturas):\n",
        "    for j, (cultivo, color) in enumerate(colors.items()):\n",
        "        # Construir datos para boxplots\n",
        "        matching_indices_box_plot = (df[\"Temperatura [ºC]\"] == temperatura) & (df[\"Cultivo\"] == cultivo)\n",
        "        data.append(df.loc[matching_indices_box_plot, y].to_list())\n",
        "        \n",
        "        tick_label = panel_id[i][j] + f\"Observaciones con \\n Temperatura = {temperatura} ºC \\n y Cultivo {cultivo}\"\n",
        "        ticks_labels.append(tick_label)\n",
        "        \n",
        "        current_panel = n*i + j + 1\n",
        "        \n",
        "        # Incluir los puntos en cada boxplot\n",
        "        for concentracion, marker in markers.items():\n",
        "            matching_indices_scatter_plot = matching_indices_box_plot & (df[\"Concentración\"] == concentracion)\n",
        "            \n",
        "            if current_panel <= 2: # Para que no se repitan en el legend\n",
        "                label = f\"Cultivo {cultivo} y Concentración {concentracion}\"\n",
        "            else:\n",
        "                label = \"\"\n",
        "                \n",
        "            plt.scatter([current_panel for i in range(0,len(df[matching_indices_scatter_plot].index))], \n",
        "                        df.loc[matching_indices_scatter_plot, y], \n",
        "                        c = color, \n",
        "                        marker = marker,\n",
        "                        s = s, \n",
        "                        alpha = 0.55,\n",
        "                        label = label)\n",
        "\n",
        "plt.boxplot(data)\n",
        "plt.legend(fontsize=small, title=\"Categorías\", title_fontsize=big)\n",
        "plt.xticks(range(1, len(data)+1), ticks_labels)\n",
        "plt.yticks(range(88, 107))\n",
        "plt.tick_params(axis = 'both', which = 'major', labelsize = small)\n",
        "plt.xlabel(\"Tratamientos\\n\\nFigura 1. Gráficas de caja y brazo para cada uno de los tratamientos del experimento\",fontsize=big)\n",
        "plt.ylabel(y, fontsize=big)\n",
        "plt.title(\"Número final de bacerias para cada tratamiento realizado durante el experimento\", fontsize=big)\n",
        "plt.show()"
      ],
      "execution_count": 10,
      "outputs": [
        {
          "output_type": "display_data",
          "data": {
            "image/png": "[encoded data removed]",
            "text/plain": [
              "<Figure size 1440x1080 with 1 Axes>"
            ]
          },
          "metadata": {
            "tags": [],
            "needs_background": "light"
          }
        }
      ]
    },
    {
      "cell_type": "markdown",
      "metadata": {
        "id": "E667Z8Mh0LTj"
      },
      "source": [
        "##### `Temperatura` de 30 ºC\n",
        "\n",
        "En las gráficas de caja y brazo a) y b) de la Figura 1 se encuentran los resultados correspondientes a los tratamientos con `Cultivo` Básico y Ácido, respectivamente, para un valor de `Temperatura` de 30 ºC. Uniendo los resultados de ambos tipos de `Cultivo` para los tratamientos con un valor de `Temperatura` de 30 ºC, el `Número final de bacterias` se encuentra entre 93 y 103 unidades y tiene un valor medio de 97.65.\n",
        "\n",
        "En este caso la mediana del `Número final de bacterias` tuvo un incremento de 95 a 100 al pasar de un `Cultivo` Básico a un `Cultivo` Ácido.\n",
        "\n",
        "\n",
        "\n",
        "##### `Temperatura` de 60 ºC\n",
        "\n",
        "En las gráficas de caja y brazo c) y d) de la Figura 1 se encuentran los resultados correspondientes a los tratamientos con `Cultivo` Básico y Ácido, respectivamente, para un valor de `Temperatura` de 60 ºC. Uniendo los resultados de ambos tipos de `Cultivo` para los tratamientos con un valor de `Temperatura` de 60 ºC, el `Número final de bacterias` se encuentra entre 101 y 106 unidades y tiene un valor medio de 102.8.\n",
        "\n",
        "En este caso la mediana del `Número final de bacterias` no tuvo cambio al pasar de un `Cultivo` Básico a un `Cultivo` Ácido.\n",
        "\n",
        "\n",
        "\n",
        "##### `Temperatura` de 90 ºC\n",
        "\n",
        "En las gráficas de caja y brazo e) y f) de la Figura 1 se encuentran los resultados correspondientes a los tratamientos con `Cultivo` Básico y Ácido, respectivamente, para un valor de `Temperatura` de 90 ºC. Uniendo los resultados de ambos tipos de `Cultivo` para los tratamientos con un valor de `Temperatura` de 90 ºC, el `Número final de bacterias` se encuentra entre 88 y 100 unidades y tiene un valor medio de 94.75.\n",
        "\n",
        "En este caso la mediana del `Número final de bacterias` tuvo un incremento de 92.5 a 97 al pasar de un `Cultivo` Básico a un `Cultivo` Ácido.\n",
        "\n",
        "##### Comentarios generales\n",
        "El análisis anterior sugiere que el `Número final de bacterias` varía dependiendo de la `Temperatura` en el sentido de que el `Número final de bacterias` tiende a ser mayor si la `Temperatura` es de 60 ºC, menor si es de 30 ºC y aún menor si es de 90 ºC.\n",
        "\n",
        "Para los niveles de `Temperatura` de 30 ºC y 90 ºC, el `Número final de bacterias` tiende a aumentar si el tipo de `Cultivo` cambia de Básico a Ácido. Esto sugiere que el tipo de `Cultivo` influye sobre el `Número final de bacterias` al menos para estos dos casos. La relación entre `Cultivo` y `Número final de bacterias` no es del todo clara para el caso de una `Temperatura` de 60 ºC.\n",
        "\n",
        "La situación es ambigua con respecto a los niveles de `Concentración` ya que, para casi todos los tratamientos, es posible encontrar observaciones con niveles de `Concentración` tanto Baja como Alta en ambos brazos de las gráficas de caja y brazo. Esto sugiere que el nivel de `Concentración`no tiene una gran influencia sobre el `Número final de bacterias`."
      ]
    },
    {
      "cell_type": "markdown",
      "metadata": {
        "id": "Chavu5Tz0LTj"
      },
      "source": [
        "# 2. ¿Puede considerar que hay diferencia entre los niveles medios de temperatura? Esto es, identifica efectos sobre el número de bacterias por cambio en los niveles de temperatura?"
      ]
    },
    {
      "cell_type": "code",
      "metadata": {
        "id": "tqX_gpf10LTk"
      },
      "source": [
        "# Obtener variables indicadoras para cada variable categórica\n",
        "\n",
        "# Abreviar los nombres de las columnas categóricas\n",
        "abbreviations = [\"t\", \"k\", \"c\"]\n",
        "\n",
        "x = [] # Lista para almacenar los nombres de las variables indicadoras generadas\n",
        "\n",
        "for category, abbreviation in zip(categorical, abbreviations):\n",
        "    values = df[category].unique() # Valores distintos de la categoría actual\n",
        "    n = len(values) # Cantidad de valores distintos de la categoría actual\n",
        "    \n",
        "    for k, value in enumerate(values):\n",
        "        matching_rows = (df[category] == value) # Filas correspondientes al valor actual de la categoría actual\n",
        "        \n",
        "        # Si la variable categórica tiene n valores se necesitan n-1 variables indicadoras\n",
        "        levels = f\"{{:0{n-1}b}}\".format(k)[::-1] # Código binario con los valores de cada variable indicadora\n",
        "        \n",
        "        for j in range(n-1): # Asignar valores a las variables indicadoras\n",
        "            # Nombre de la variable indicadora\n",
        "            label = fr\"${{{abbreviation}}}_{j+1}$\" if n > 2 else fr\"${{{abbreviation}}}$\" \n",
        "            \n",
        "            x.append(label) # Agregar indicadora a la lista\n",
        "            \n",
        "            df.loc[matching_rows, label] = int(levels[j])\n",
        "\n",
        "import collections\n",
        "x = list(collections.OrderedDict.fromkeys(x)) # Quitar duplicados manteniendo el orden"
      ],
      "execution_count": 11,
      "outputs": []
    },
    {
      "cell_type": "code",
      "metadata": {
        "id": "QAJo3WBU0LTn"
      },
      "source": [
        "# Obtener interacciones entre las variables indicadoras\n",
        "\n",
        "import itertools\n",
        "combinations = list(itertools.combinations(x, 2))\n",
        "\n",
        "for combination in combinations:\n",
        "    if combination != ('${t}_1$', '${t}_2$'): # Incluir esta combinación ocasiona singularidad\n",
        "        # label = f\"Interacción {combination[0]} y {combination[1]}\"\n",
        "        label = fr\"{combination[0]}{combination[1]}\"\n",
        "        x.append(label) # Agregar interacciones a la lista\n",
        "    \n",
        "        df[label] = df[combination[0]]*df[combination[1]]"
      ],
      "execution_count": 12,
      "outputs": []
    },
    {
      "cell_type": "markdown",
      "metadata": {
        "id": "vnVJyrYp0LTp"
      },
      "source": [
        "Para responder a esta pregunta y a las siguientes cuatro, se propone el siguiente modelo de regresión lineal."
      ]
    },
    {
      "cell_type": "markdown",
      "metadata": {
        "id": "2HZ0DTzA0LTq"
      },
      "source": [
        "$$y = \\beta_0 + \\beta_1t_1 + \\beta_2t_2 + \\beta_3k + \\beta_4c + \\beta_5t_1k + \\beta_6t_1c + \\beta_7t_2k + \\beta_8t_2c + \\beta_9kc + \\varepsilon$$\n",
        "\n",
        "donde\n",
        "* $y$ es la variable respuesta correspondiente al `Número final de bacterias`.\n",
        "* $t_1$ y $t_2$ son los regresores correspondientes a las variables indicadoras asociadas con el nivel de`Temperatura`, donde\n",
        "$$\n",
        "(t_1,\\,t_2) = \n",
        "\\begin{cases}\n",
        "(0,\\,0) & \\text{ si } \\textsf{Temperatura} = 30 \\text{ ºC} \\\\\n",
        "(1,\\,0) & \\text{ si } \\textsf{Temperatura} = 60 \\text{ ºC} \\\\\n",
        "(0,\\,1) & \\text{ si } \\textsf{Temperatura} = 90 \\text{ ºC} \\\\\n",
        "\\end{cases}\n",
        "$$\n",
        "* $k$ es el regresor correspondiente a la variable indicadora asociada con el tipo de`Cultivo`, donde\n",
        "$$\n",
        "k = \n",
        "\\begin{cases}\n",
        "0 & \\text{ si } \\textsf{Cultivo} = \\text{Básico} \\\\\n",
        "1 & \\text{ si } \\textsf{Cultivo} = \\text{Ácido} \\\\\n",
        "\\end{cases}\n",
        "$$\n",
        "* $c$ es el regresor correspondiente a la variable indicadora asociada con el nivel de`Concentración`, donde\n",
        "$$\n",
        "c = \n",
        "\\begin{cases}\n",
        "0 & \\text{ si } \\textsf{Concentración} = \\text{Baja} \\\\\n",
        "1 & \\text{ si } \\textsf{Concentración} = \\text{Alta} \\\\\n",
        "\\end{cases}\n",
        "$$\n",
        "* $\\varepsilon$ es el término de error aleatorio."
      ]
    },
    {
      "cell_type": "markdown",
      "metadata": {
        "id": "b3eBBJXC0LTq"
      },
      "source": [
        "Es importante resaltar que se pueden obtener 12 modelos diferentes como resultado de las distintas combinaciones de niveles de `Temperatura`, `Cultivo` y `Concentración`."
      ]
    },
    {
      "cell_type": "code",
      "metadata": {
        "id": "AeUIhvgZ0LTr",
        "outputId": "43863f57-d40e-4902-a411-72be0258d501",
        "colab": {
          "base_uri": "https://localhost:8080/",
          "height": 1000
        }
      },
      "source": [
        "# QUITAR SI OCUPA MUCHO ESPACIO.\n",
        "\n",
        "from IPython.display import display, Markdown, Latex\n",
        "\n",
        "modelos = pd.read_csv(\"modelos.csv\")\n",
        "\n",
        "for index, row in modelos.iterrows():\n",
        "    \n",
        "    temperatura = row[\"Temperatura [ºC]\"]\n",
        "    cultivo = row[\"Cultivo\"]\n",
        "    concentracion = row[\"Concentración\"]\n",
        "    t_1 = row[\"${t}_1$\"]\n",
        "    t_2 = row[\"${t}_2$\"]\n",
        "    k = row[\"${k}$\"]\n",
        "    c = row[\"${c}$\"]\n",
        "    modelo = row[\"Modelo\"]\n",
        "    \n",
        "    descripcion = f\"Para las observaciones obtenidas con una `Temperatura` de {temperatura} ºC, \" \\\n",
        "                  fr\"con `Cultivo` {cultivo} y con `Concentración` {concentracion} \" \\\n",
        "                  fr\"se tienen $t_1 = {{{t_1}}}$, $t_2 = {{{t_2}}}$, $k = {{{k}}}$ y $c = {{{c}}}$. \" \\\n",
        "                  f\"Entonces, el modelo para este tratamiento es: \"\n",
        "    display(Markdown(descripcion + modelo))\n",
        "    #display(Latex(modelo))\n",
        "    print(\"\\n\")"
      ],
      "execution_count": 13,
      "outputs": [
        {
          "output_type": "display_data",
          "data": {
            "text/markdown": "Para las observaciones obtenidas con una `Temperatura` de 30 ºC, con `Cultivo` Básico y con `Concentración` Baja se tienen $t_1 = {0}$, $t_2 = {0}$, $k = {0}$ y $c = {0}$. Entonces, el modelo para este tratamiento es: $y = \\beta_0 + \\varepsilon$",
            "text/plain": [
              "<IPython.core.display.Markdown object>"
            ]
          },
          "metadata": {
            "tags": []
          }
        },
        {
          "output_type": "stream",
          "text": [
            "\n",
            "\n"
          ],
          "name": "stdout"
        },
        {
          "output_type": "display_data",
          "data": {
            "text/markdown": "Para las observaciones obtenidas con una `Temperatura` de 30 ºC, con `Cultivo` Básico y con `Concentración` Alta se tienen $t_1 = {0}$, $t_2 = {0}$, $k = {0}$ y $c = {1}$. Entonces, el modelo para este tratamiento es: $y = \\beta_0 + \\beta_4 + \\varepsilon$",
            "text/plain": [
              "<IPython.core.display.Markdown object>"
            ]
          },
          "metadata": {
            "tags": []
          }
        },
        {
          "output_type": "stream",
          "text": [
            "\n",
            "\n"
          ],
          "name": "stdout"
        },
        {
          "output_type": "display_data",
          "data": {
            "text/markdown": "Para las observaciones obtenidas con una `Temperatura` de 30 ºC, con `Cultivo` Ácido y con `Concentración` Baja se tienen $t_1 = {0}$, $t_2 = {0}$, $k = {1}$ y $c = {0}$. Entonces, el modelo para este tratamiento es: $y = \\beta_0 + \\beta_3 + \\varepsilon$",
            "text/plain": [
              "<IPython.core.display.Markdown object>"
            ]
          },
          "metadata": {
            "tags": []
          }
        },
        {
          "output_type": "stream",
          "text": [
            "\n",
            "\n"
          ],
          "name": "stdout"
        },
        {
          "output_type": "display_data",
          "data": {
            "text/markdown": "Para las observaciones obtenidas con una `Temperatura` de 30 ºC, con `Cultivo` Ácido y con `Concentración` Alta se tienen $t_1 = {0}$, $t_2 = {0}$, $k = {1}$ y $c = {1}$. Entonces, el modelo para este tratamiento es: $y = \\beta_0 + \\beta_3 + \\beta_4 + \\beta_9 + \\varepsilon$",
            "text/plain": [
              "<IPython.core.display.Markdown object>"
            ]
          },
          "metadata": {
            "tags": []
          }
        },
        {
          "output_type": "stream",
          "text": [
            "\n",
            "\n"
          ],
          "name": "stdout"
        },
        {
          "output_type": "display_data",
          "data": {
            "text/markdown": "Para las observaciones obtenidas con una `Temperatura` de 60 ºC, con `Cultivo` Básico y con `Concentración` Baja se tienen $t_1 = {1}$, $t_2 = {0}$, $k = {0}$ y $c = {0}$. Entonces, el modelo para este tratamiento es: $y = \\beta_0 + \\beta_1 + \\varepsilon$",
            "text/plain": [
              "<IPython.core.display.Markdown object>"
            ]
          },
          "metadata": {
            "tags": []
          }
        },
        {
          "output_type": "stream",
          "text": [
            "\n",
            "\n"
          ],
          "name": "stdout"
        },
        {
          "output_type": "display_data",
          "data": {
            "text/markdown": "Para las observaciones obtenidas con una `Temperatura` de 60 ºC, con `Cultivo` Básico y con `Concentración` Alta se tienen $t_1 = {1}$, $t_2 = {0}$, $k = {0}$ y $c = {1}$. Entonces, el modelo para este tratamiento es: $y = \\beta_0 + \\beta_1 + \\beta_4 + \\beta_6 + \\varepsilon$",
            "text/plain": [
              "<IPython.core.display.Markdown object>"
            ]
          },
          "metadata": {
            "tags": []
          }
        },
        {
          "output_type": "stream",
          "text": [
            "\n",
            "\n"
          ],
          "name": "stdout"
        },
        {
          "output_type": "display_data",
          "data": {
            "text/markdown": "Para las observaciones obtenidas con una `Temperatura` de 60 ºC, con `Cultivo` Ácido y con `Concentración` Baja se tienen $t_1 = {1}$, $t_2 = {0}$, $k = {1}$ y $c = {0}$. Entonces, el modelo para este tratamiento es: $y = \\beta_0 + \\beta_1 + \\beta_3 + \\beta_5 + \\varepsilon$",
            "text/plain": [
              "<IPython.core.display.Markdown object>"
            ]
          },
          "metadata": {
            "tags": []
          }
        },
        {
          "output_type": "stream",
          "text": [
            "\n",
            "\n"
          ],
          "name": "stdout"
        },
        {
          "output_type": "display_data",
          "data": {
            "text/markdown": "Para las observaciones obtenidas con una `Temperatura` de 60 ºC, con `Cultivo` Ácido y con `Concentración` Alta se tienen $t_1 = {1}$, $t_2 = {0}$, $k = {1}$ y $c = {1}$. Entonces, el modelo para este tratamiento es: $y = \\beta_0 + \\beta_1 + \\beta_3 + \\beta_4 + \\beta_5 + \\beta_6 + \\beta_9 + \\varepsilon$",
            "text/plain": [
              "<IPython.core.display.Markdown object>"
            ]
          },
          "metadata": {
            "tags": []
          }
        },
        {
          "output_type": "stream",
          "text": [
            "\n",
            "\n"
          ],
          "name": "stdout"
        },
        {
          "output_type": "display_data",
          "data": {
            "text/markdown": "Para las observaciones obtenidas con una `Temperatura` de 90 ºC, con `Cultivo` Básico y con `Concentración` Baja se tienen $t_1 = {0}$, $t_2 = {1}$, $k = {0}$ y $c = {0}$. Entonces, el modelo para este tratamiento es: $y = \\beta_0 + \\beta_2 + \\varepsilon$",
            "text/plain": [
              "<IPython.core.display.Markdown object>"
            ]
          },
          "metadata": {
            "tags": []
          }
        },
        {
          "output_type": "stream",
          "text": [
            "\n",
            "\n"
          ],
          "name": "stdout"
        },
        {
          "output_type": "display_data",
          "data": {
            "text/markdown": "Para las observaciones obtenidas con una `Temperatura` de 90 ºC, con `Cultivo` Básico y con `Concentración` Alta se tienen $t_1 = {0}$, $t_2 = {1}$, $k = {0}$ y $c = {1}$. Entonces, el modelo para este tratamiento es: $y = \\beta_0 + \\beta_2 + \\beta_4 + \\beta_8 + \\varepsilon$",
            "text/plain": [
              "<IPython.core.display.Markdown object>"
            ]
          },
          "metadata": {
            "tags": []
          }
        },
        {
          "output_type": "stream",
          "text": [
            "\n",
            "\n"
          ],
          "name": "stdout"
        },
        {
          "output_type": "display_data",
          "data": {
            "text/markdown": "Para las observaciones obtenidas con una `Temperatura` de 90 ºC, con `Cultivo` Ácido y con `Concentración` Baja se tienen $t_1 = {0}$, $t_2 = {1}$, $k = {1}$ y $c = {0}$. Entonces, el modelo para este tratamiento es: $y = \\beta_0 + \\beta_2 + \\beta_3 + \\beta_7 + \\varepsilon$",
            "text/plain": [
              "<IPython.core.display.Markdown object>"
            ]
          },
          "metadata": {
            "tags": []
          }
        },
        {
          "output_type": "stream",
          "text": [
            "\n",
            "\n"
          ],
          "name": "stdout"
        },
        {
          "output_type": "display_data",
          "data": {
            "text/markdown": "Para las observaciones obtenidas con una `Temperatura` de 90 ºC, con `Cultivo` Ácido y con `Concentración` Alta se tienen $t_1 = {0}$, $t_2 = {1}$, $k = {1}$ y $c = {1}$. Entonces, el modelo para este tratamiento es: $y = \\beta_0 + \\beta_2 + \\beta_3 + \\beta_4 + \\beta_7 + \\beta_8 + \\beta_9 + \\varepsilon$",
            "text/plain": [
              "<IPython.core.display.Markdown object>"
            ]
          },
          "metadata": {
            "tags": []
          }
        },
        {
          "output_type": "stream",
          "text": [
            "\n",
            "\n"
          ],
          "name": "stdout"
        }
      ]
    },
    {
      "cell_type": "code",
      "metadata": {
        "id": "opLcYbRM0LTu"
      },
      "source": [
        "# ESTA INTERPRETACIÓN SÍ ES MUY IMPORTANTE PORQUE LE DA VALIDEZ A LAS RESPUESTAS DE ESTA Y LAS SIGUIENTES PREGUNTAS."
      ],
      "execution_count": 14,
      "outputs": []
    },
    {
      "cell_type": "markdown",
      "metadata": {
        "id": "o-B3P8ad0LTw"
      },
      "source": [
        "De modo que,\n",
        "* El parámetro $\\beta_0$ es el valor medio del `Número final de bacterias` para un nivel de `Temperatura` de 30 ºC con un tipo de `Cultivo` Básico y con `Concentración` Baja.\n",
        "* El parámetro $\\beta_1$ es una medida del cambio en el `Número final de bacterias` al pasar de una `Temperatura` de 30 ºC a una `Temperatura` de 60 ºC.\n",
        "* El parámetro $\\beta_2$ es una medida del cambio en el `Número final de bacterias` al pasar de una `Temperatura` de 30 ºC a una `Temperatura` de 90 ºC. Entonces, la cantidad $\\beta_2$ - $\\beta_1$ es una medida del cambio en el `Número final de bacterias` al pasar de una `Temperatura` de 60 ºC a una `Temperatura` de 90 ºC.\n",
        "* El parámetro $\\beta_3$ es una medida del cambio en el `Número final de bacterias` al pasar de un `Cultivo` Básico a un `Cultivo` Ácido cuando la `Temperatura` es de 30 ºC.\n",
        "* El parámetro $\\beta_4$ es una medida del cambio en el `Número final de bacterias` al pasar de una `Concentración` Baja a una `Concentración` Alta cuando la `Temperatura` es de 30 ºC.\n",
        "* El parámetro $\\beta_5$ mide la interacción entre los regresores $t_1$ y $k$. La cantidad $\\beta_3 + \\beta_5$ es una medida del cambio en el `Número final de bacterias` al pasar de un `Cultivo` Básico a un `Cultivo` Ácido cuando la `Temperatura` es de 60 ºC.\n",
        "* El parámetro $\\beta_6$ mide la interacción entre los regresores $t_1$ y $c$. La cantidad $\\beta_4 + \\beta_6$ es una medida del cambio en el `Número final de bacterias` al pasar de una `Concentración` Baja a una `Concentración` Alta cuando la `Temperatura` es de 60 ºC.\n",
        "* El parámetro $\\beta_7$ mide la interacción entre los regresores $t_2$ y $k$. La cantidad $\\beta_3 + \\beta_7$ es una medida del cambio en el `Número final de bacterias` al pasar de un `Cultivo` Básico a un `Cultivo` Ácido cuando la `Temperatura` es de 90 ºC.\n",
        "* El parámetro $\\beta_8$ mide la interacción entre los regresores $t_2$ y $c$. La cantidad $\\beta_4 + \\beta_8$ es una medida del cambio en el `Número final de bacterias` al pasar de una `Concentración` Baja a una `Concentración` Alta cuando la `Temperatura` es de 90 ºC.\n",
        "* El parámetro $\\beta_9$ mide la interacción entre los regresores $k$ y $c$. La cantidad $\\beta_9$ es un ajuste en el `Número final de bacterias` cuando el tipo de `Cultivo` es Ácido y la `Concentración` es Alta.\n"
      ]
    },
    {
      "cell_type": "code",
      "metadata": {
        "id": "NGdoUBpW0LTx",
        "outputId": "97f99830-f5ae-4fd6-e8be-c9ffa46f6d2b",
        "colab": {
          "base_uri": "https://localhost:8080/",
          "height": 74
        }
      },
      "source": [
        "# OBTENER EL AJUSTE Y MOSTRARLO.\n",
        "n = len(df.index)\n",
        "k = len(x)\n",
        "p = k + 1\n",
        "m = len(df.drop_duplicates(subset=x).index)\n",
        "\n",
        "ones = np.ones((n, 1))\n",
        "X =  np.c_[ones, df[x].to_numpy()]\n",
        "\n",
        "Y = df[y].to_numpy()\n",
        "\n",
        "C = np.linalg.inv(np.dot(X.T, X))\n",
        "\n",
        "beta = np.linalg.multi_dot([C, X.T, Y])\n",
        "\n",
        "Y_fit = np.dot(X, beta)\n",
        "df[\"Respuesta ajustada\"] = Y_fit\n",
        "\n",
        "residuals = Y - Y_fit\n",
        "df[\"Residuales\"] = residuals\n",
        "\n",
        "def to_string(beta, x):\n",
        "    regressors = [\"\"]\n",
        "    signs = []\n",
        "    betas = []\n",
        "    beta_first = True\n",
        "    \n",
        "    for value in beta:\n",
        "        if value > 0:\n",
        "            if beta_first:\n",
        "                signs.append(\"\")\n",
        "            else:\n",
        "                signs.append(\"+\")\n",
        "        else:\n",
        "            signs.append(\"-\")\n",
        "        betas.append(str(abs(np.round(value,2))))\n",
        "        beta_first = False\n",
        "\n",
        "    for value in x:\n",
        "        regressors.append(value)\n",
        "\n",
        "    string = r\"$\\hat{y}$\" + \" =\"\n",
        "    for sign, coefficient, regressor in zip(signs, betas, regressors):\n",
        "        string = string + f\" {sign} {coefficient}{regressor}\"\n",
        "\n",
        "    return string\n",
        "\n",
        "display(Markdown(\"El ajuste obtenido para el modelo propuesto está dado por\"))\n",
        "# display(Latex(to_string(beta, x))) # NO SÉ POR QUÉ NO SALE CENTRADO :(\n",
        "# display(Markdown(to_string(beta,x)))\n",
        "display(Markdown('$\\hat{y}$ =  94.32 + 8.65${t}_1$ - 3.0${t}_2$ + 5.37${k}$ + 1.77${c}$ - 5.7${t}_1{k}$ - 1.3${t}_1{c}$ - 1.6${t}_2{k}$ + 1.8${t}_2{c}$ - 0.93${k}{c}$'))"
      ],
      "execution_count": 31,
      "outputs": [
        {
          "output_type": "display_data",
          "data": {
            "text/markdown": "El ajuste obtenido para el modelo propuesto está dado por",
            "text/plain": [
              "<IPython.core.display.Markdown object>"
            ]
          },
          "metadata": {
            "tags": []
          }
        },
        {
          "output_type": "display_data",
          "data": {
            "text/markdown": "$\\hat{y}$ =  94.32 + 8.65${t}_1$ - 3.0${t}_2$ + 5.37${k}$ + 1.77${c}$ - 5.7${t}_1{k}$ - 1.3${t}_1{c}$ - 1.6${t}_2{k}$ + 1.8${t}_2{c}$ - 0.93${k}{c}$",
            "text/plain": [
              "<IPython.core.display.Markdown object>"
            ]
          },
          "metadata": {
            "tags": []
          }
        }
      ]
    },
    {
      "cell_type": "code",
      "metadata": {
        "id": "LhKlLRpZ0LTz",
        "outputId": "313a318e-a09f-4d0c-baaa-1fd3df478a95",
        "colab": {
          "base_uri": "https://localhost:8080/",
          "height": 68
        }
      },
      "source": [
        "# MOSTRAR R^2 Y R^2 AJUSTADA.\n",
        "\n",
        "SS_Res = np.sum((Y - Y_fit)**2)\n",
        "MS_Res = SS_Res/(n - p)\n",
        "\n",
        "Y_mean = np.repeat(Y.mean(), n)\n",
        "SS_Tot = np.sum((Y - Y_mean)**2)\n",
        "\n",
        "# SS_R = np.sum((Y_fit - Y_mean)**2)\n",
        "# MS_R = SS_R/k\n",
        "\n",
        "R_sq = np.round(100*(1 - SS_Res/SS_Tot),2)\n",
        "R_sq_adj = np.round(100*(1 - ((SS_Res)/(n - p))/((SS_Tot)/(n - 1))),2)\n",
        "\n",
        "#mensaje = fr\"Para el ajuste obtenido se calculó un valor de $R^2$ de {R_sq} % \" \n",
        "#mensaje = mensaje + r\"y un valor de $R^2_{\\text{ajustada}}$\" + f\" de {R_sq_adj} %. \"\n",
        "#mensaje = mensaje + \"Esto quiere decir que los regresores incluidos en el modelo\"\n",
        "#mensaje = mensaje + \"logran explicar una cantidad suficiente de la variabilidad de la respuesta.\"\n",
        "\n",
        "mensaje = fr\"Para el ajuste obtenido se calculó un valor de $R^2$ de {R_sq} % \" + \\\n",
        "r\"y un valor de $R^2_{\\text{ajustada}}$\" + f\" de {R_sq_adj} %. \" + \\\n",
        "\"Esto quiere decir que los regresores incluidos en el modelo logran \" + \\\n",
        "\"explicar una cantidad suficiente de la variabilidad de la respuesta.\"\n",
        "\n",
        "display(Markdown(mensaje))"
      ],
      "execution_count": 16,
      "outputs": [
        {
          "output_type": "display_data",
          "data": {
            "text/markdown": "Para el ajuste obtenido se calculó un valor de $R^2$ de 83.99 % y un valor de $R^2_{\\text{ajustada}}$ de 81.11 %. Esto quiere decir que los regresores incluidos en el modelo logran explicar una cantidad suficiente de la variabilidad de la respuesta.",
            "text/plain": [
              "<IPython.core.display.Markdown object>"
            ]
          },
          "metadata": {
            "tags": []
          }
        }
      ]
    },
    {
      "cell_type": "code",
      "metadata": {
        "id": "nXjQtoRW0LT1"
      },
      "source": [
        "# COMPLEMENTO SI QUEDA ESPACIO/TIEMPO: PRUEBA DE FALTA DE AJUSTE, QUE ES INDEPENDIENTE DEL MODELO"
      ],
      "execution_count": 17,
      "outputs": []
    },
    {
      "cell_type": "markdown",
      "metadata": {
        "id": "1Ffvli-V0LT4"
      },
      "source": [
        "A continuación se realizan algunas pruebas de hipótesis para análizar los efectos de los cambios de `Temperatura` sobre el `Número final de bacterias`."
      ]
    },
    {
      "cell_type": "code",
      "metadata": {
        "id": "ogM2y__y0LT4",
        "outputId": "6e6e4ddf-18d8-4fa1-cd95-30891c84df59",
        "colab": {
          "base_uri": "https://localhost:8080/",
          "height": 170
        }
      },
      "source": [
        "# PARA RESPONDER A LA PREGUNTA 2, PROBAR\n",
        "    # H_0: \\beta_1 = 0 vs. H_1: \\beta_1 \\neq 0. RECHAZAR SI p < alpha.\n",
        "    # H_0: \\beta_1 = 0 vs. H_1: \\beta_1 \\neq 0. RECHAZAR SI p < alpha.\n",
        "    # H_0: \\beta_2 = 0 vs. H_1: \\beta_2 \\neq 0. RECHAZAR SI p < alpha.\n",
        "\n",
        "# AL RECHAZAR ESTAS HIPÓTESIS SE PRUEBA QUE LA TEMPERATURA SÍ INFLUYE EN EL NÚMERO FINAL DE BACTERIAS\n",
        "\n",
        "# Para darle formato a los valores p\n",
        "def format_tex(float_number):\n",
        "    if float_number == 0:\n",
        "        mantissa_format = 1.11\n",
        "        exponent = -16\n",
        "    else:\n",
        "        exponent = np.floor(np.log10(float_number))\n",
        "        mantissa = float_number/10**exponent\n",
        "        mantissa_format = str(mantissa)[0:4]\n",
        "    return fr\"{mantissa_format} $\\times$ 10 $^{{{int(exponent)}}}$\"\n",
        "\n",
        "# Para probar H_0: \\beta_j = beta_j^0 vs H_1: \\beta_j \\neq beta_j^0\n",
        "def test_beta(j, beta_0 = 0, alpha = 0.05):\n",
        "    beta_j = beta[j]\n",
        "    C_jj = np.diag(C)[j]\n",
        "    std_error = np.sqrt(MS_Res*C_jj)\n",
        "    t_0 = (beta_j - beta_0)/(std_error)\n",
        "    p_value = stats.t.cdf(-abs(t_0), n - p) + 1-stats.t.cdf(abs(t_0), n - p)\n",
        "    \n",
        "    pretty_t_0 = np.round(t_0,2)\n",
        "    pretty_p_value = format_tex(p_value)\n",
        "    \n",
        "    mensaje = fr\"Para la prueba de hipótesis $H_0$: $\\beta_{j}$ = {beta_0} vs. $H_1$: $\\beta_{j}$ $\\neq$ {beta_0} \" + \\\n",
        "    fr\" se obtuvo un estadístico $t_0$ = {pretty_t_0} y un resultante valor $p$ = {pretty_p_value}\"\n",
        "    \n",
        "    if p_value < alpha:\n",
        "        complemento = r\", que es lo suficientemente pequeño como para rechazar la hipótesis $H_0$.\"\n",
        "    else:\n",
        "        complemento = r\", que es lo suficientemente grande como para no rechazar la hipótesis $H_0$.\"\n",
        "    \n",
        "    display(Markdown(mensaje + complemento))\n",
        "    \n",
        "    return t_0, p_value\n",
        "\n",
        "t_0, p_value = test_beta(0)\n",
        "t_0, p_value = test_beta(1)\n",
        "t_0, p_value = test_beta(2)"
      ],
      "execution_count": 18,
      "outputs": [
        {
          "output_type": "display_data",
          "data": {
            "text/markdown": "Para la prueba de hipótesis $H_0$: $\\beta_0$ = 0 vs. $H_1$: $\\beta_0$ $\\neq$ 0  se obtuvo un estadístico $t_0$ = 124.55 y un resultante valor $p$ = 1.11 $\\times$ 10 $^{-16}$, que es lo suficientemente pequeño como para rechazar la hipótesis $H_0$.",
            "text/plain": [
              "<IPython.core.display.Markdown object>"
            ]
          },
          "metadata": {
            "tags": []
          }
        },
        {
          "output_type": "display_data",
          "data": {
            "text/markdown": "Para la prueba de hipótesis $H_0$: $\\beta_1$ = 0 vs. $H_1$: $\\beta_1$ $\\neq$ 0  se obtuvo un estadístico $t_0$ = 8.51 y un resultante valor $p$ = 2.69 $\\times$ 10 $^{-11}$, que es lo suficientemente pequeño como para rechazar la hipótesis $H_0$.",
            "text/plain": [
              "<IPython.core.display.Markdown object>"
            ]
          },
          "metadata": {
            "tags": []
          }
        },
        {
          "output_type": "display_data",
          "data": {
            "text/markdown": "Para la prueba de hipótesis $H_0$: $\\beta_2$ = 0 vs. $H_1$: $\\beta_2$ $\\neq$ 0  se obtuvo un estadístico $t_0$ = -2.95 y un resultante valor $p$ = 4.78 $\\times$ 10 $^{-3}$, que es lo suficientemente pequeño como para rechazar la hipótesis $H_0$.",
            "text/plain": [
              "<IPython.core.display.Markdown object>"
            ]
          },
          "metadata": {
            "tags": []
          }
        }
      ]
    },
    {
      "cell_type": "markdown",
      "metadata": {
        "id": "TKgpW4Xd0LT9"
      },
      "source": [
        "De acuerdo con los resultados de las pruebas de hipótesis anteriores, es posible afirmar que no hay evidencia de que los coeficientes asociados con los cambios de `Temperatura` sean negligibles y, por lo tanto, es posible concluir que los efectos sobre el `Número final de bacterias` por cambio en los niveles de `Temperatura` sí son identificables."
      ]
    },
    {
      "cell_type": "markdown",
      "metadata": {
        "id": "d1jCHA3x0LT-"
      },
      "source": [
        "# 3. ¿Es distinta la respuesta dependiendo del cultivo empleado?"
      ]
    },
    {
      "cell_type": "code",
      "metadata": {
        "id": "xbfy5KZZ0LT-",
        "outputId": "30a50a5f-cdbb-4345-8973-5e9c46a40d3a",
        "colab": {
          "base_uri": "https://localhost:8080/",
          "height": 72
        }
      },
      "source": [
        "# PARA RESPONDER A LA PREGUNTA 3, PROBAR\n",
        "    # H_0: \\beta_3 = 0 vs. H_1: \\beta_3 \\neq 0. RECHAZAR SI p < alpha.\n",
        "\n",
        "t_0, p_value = test_beta(3)\n",
        "\n",
        "# AL RECHAZAR ESTA HIPÓTESIS SE PRUEBA QUE EL TIPO DE CULTIVO SÍ INFLUYE EN EL NÚMERO FINAL DE BACTERIAS"
      ],
      "execution_count": 33,
      "outputs": [
        {
          "output_type": "display_data",
          "data": {
            "text/markdown": "Para la prueba de hipótesis $H_0$: $\\beta_3$ = 0 vs. $H_1$: $\\beta_3$ $\\neq$ 0  se obtuvo un estadístico $t_0$ = 5.6 y un resultante valor $p$ = 9.00 $\\times$ 10 $^{-7}$, que es lo suficientemente pequeño como para rechazar la hipótesis $H_0$.",
            "text/plain": [
              "<IPython.core.display.Markdown object>"
            ]
          },
          "metadata": {
            "tags": []
          }
        }
      ]
    },
    {
      "cell_type": "markdown",
      "metadata": {
        "id": "zKvuAuhYL55n"
      },
      "source": [
        "Como rechazamos la opción que $\\beta_3$ tome el valor de cero, esto implica que el tipo de cultivo que se emplea en las muestras sí afecta o sí tiene un impacto significativo en el número de bacterias encontradas."
      ]
    },
    {
      "cell_type": "markdown",
      "metadata": {
        "id": "QLNEofhL0LUB"
      },
      "source": [
        "# 4. ¿Consideraría que los factores interactúan?"
      ]
    },
    {
      "cell_type": "markdown",
      "metadata": {
        "id": "AsDfJDMBUVnK"
      },
      "source": [
        "A continuación se harán varias pruebas de hipótesis que ayudarán a discernir si los distintos factores (`Temperatura`, `Cultivo` y `Concentración`) interactúan entre ellos en el resultado final de número de bacterias."
      ]
    },
    {
      "cell_type": "code",
      "metadata": {
        "id": "l3HM5rcg0LUB"
      },
      "source": [
        "# PARA RESPONDER A LA PREGUNTA 4, PROBAR\n",
        "    # H_0: \\beta_5 = 0 vs. H_1: \\beta_5 \\neq 0. RECHAZAR SI p < alpha.\n",
        "    # H_0: \\beta_6 = 0 vs. H_1: \\beta_6 \\neq 0. RECHAZAR SI p < alpha.\n",
        "    # H_0: \\beta_7 = 0 vs. H_1: \\beta_7 \\neq 0. RECHAZAR SI p < alpha.\n",
        "    # H_0: \\beta_8 = 0 vs. H_1: \\beta_8 \\neq 0. RECHAZAR SI p < alpha.\n",
        "    # H_0: \\beta_9 = 0 vs. H_1: \\beta_9 \\neq 0. RECHAZAR SI p < alpha.\n",
        "\n",
        "# INDICAR CUÁLES FACTORES INTERACTÚAN Y CUÁLES NO \n",
        "# DEPENDIENDO DE CUÁLES HIPÓTESIS SE RECHACEN Y CUÁLES NO, RESPECTIVAMENTE."
      ],
      "execution_count": 20,
      "outputs": []
    },
    {
      "cell_type": "code",
      "metadata": {
        "id": "8Nhs1QpKUSDI",
        "outputId": "873bf059-722e-44f8-c259-0ba1c738239d",
        "colab": {
          "base_uri": "https://localhost:8080/",
          "height": 269
        }
      },
      "source": [
        "t_0, p_value = test_beta(5)\n",
        "t_0, p_value = test_beta(6)\n",
        "t_0, p_value = test_beta(7)\n",
        "t_0, p_value = test_beta(8)\n",
        "t_0, p_value = test_beta(9)"
      ],
      "execution_count": 34,
      "outputs": [
        {
          "output_type": "display_data",
          "data": {
            "text/markdown": "Para la prueba de hipótesis $H_0$: $\\beta_5$ = 0 vs. $H_1$: $\\beta_5$ $\\neq$ 0  se obtuvo un estadístico $t_0$ = -4.86 y un resultante valor $p$ = 1.20 $\\times$ 10 $^{-5}$, que es lo suficientemente pequeño como para rechazar la hipótesis $H_0$.",
            "text/plain": [
              "<IPython.core.display.Markdown object>"
            ]
          },
          "metadata": {
            "tags": []
          }
        },
        {
          "output_type": "display_data",
          "data": {
            "text/markdown": "Para la prueba de hipótesis $H_0$: $\\beta_6$ = 0 vs. $H_1$: $\\beta_6$ $\\neq$ 0  se obtuvo un estadístico $t_0$ = -1.11 y un resultante valor $p$ = 2.73 $\\times$ 10 $^{-1}$, que es lo suficientemente grande como para no rechazar la hipótesis $H_0$.",
            "text/plain": [
              "<IPython.core.display.Markdown object>"
            ]
          },
          "metadata": {
            "tags": []
          }
        },
        {
          "output_type": "display_data",
          "data": {
            "text/markdown": "Para la prueba de hipótesis $H_0$: $\\beta_7$ = 0 vs. $H_1$: $\\beta_7$ $\\neq$ 0  se obtuvo un estadístico $t_0$ = -1.36 y un resultante valor $p$ = 1.78 $\\times$ 10 $^{-1}$, que es lo suficientemente grande como para no rechazar la hipótesis $H_0$.",
            "text/plain": [
              "<IPython.core.display.Markdown object>"
            ]
          },
          "metadata": {
            "tags": []
          }
        },
        {
          "output_type": "display_data",
          "data": {
            "text/markdown": "Para la prueba de hipótesis $H_0$: $\\beta_8$ = 0 vs. $H_1$: $\\beta_8$ $\\neq$ 0  se obtuvo un estadístico $t_0$ = 1.53 y un resultante valor $p$ = 1.31 $\\times$ 10 $^{-1}$, que es lo suficientemente grande como para no rechazar la hipótesis $H_0$.",
            "text/plain": [
              "<IPython.core.display.Markdown object>"
            ]
          },
          "metadata": {
            "tags": []
          }
        },
        {
          "output_type": "display_data",
          "data": {
            "text/markdown": "Para la prueba de hipótesis $H_0$: $\\beta_9$ = 0 vs. $H_1$: $\\beta_9$ $\\neq$ 0  se obtuvo un estadístico $t_0$ = -0.97 y un resultante valor $p$ = 3.34 $\\times$ 10 $^{-1}$, que es lo suficientemente grande como para no rechazar la hipótesis $H_0$.",
            "text/plain": [
              "<IPython.core.display.Markdown object>"
            ]
          },
          "metadata": {
            "tags": []
          }
        }
      ]
    },
    {
      "cell_type": "markdown",
      "metadata": {
        "id": "WnTJhba6V9Gb"
      },
      "source": [
        "Como podemos observar, todos los valores p de las pruebas de hipótesis son valores grandes, con excepción del valor de la prueba para $\\beta_5$. Esto quiere decir que las únicas variables que interactúan entre ellas de manera significativa son `Temperatura` y `Cultivo`."
      ]
    },
    {
      "cell_type": "markdown",
      "metadata": {
        "id": "P1-_TMxL0LUD"
      },
      "source": [
        "# 5. Valide su modelo mediante el análisis de los residuales."
      ]
    },
    {
      "cell_type": "code",
      "metadata": {
        "id": "uZG9A0tY0LUE"
      },
      "source": [
        "# GRÁFICA DE RESIDUALES CONTRA RESPUESTAS AJUSTADAS\n",
        "# GRÁFICA CUANTIL CUANTIL DE LOS RESIDUALES\n",
        "# VER SI SE SATISFACE EL SUPUESTO DE NORMALIDAD\n",
        "# COMPLEMENTOS SI QUEDA ESPACIO/TIEMPO: RESIDUALES ESTANDARIZADOS/STUDENTIZADOS CP DE MALLOWS"
      ],
      "execution_count": 21,
      "outputs": []
    },
    {
      "cell_type": "markdown",
      "metadata": {
        "id": "p4myUk2O0LUH"
      },
      "source": [
        "# 6. ¿Considera que es necesario distinguir entre los niveles bajo y alto de la concentración del cultivo?"
      ]
    },
    {
      "cell_type": "code",
      "metadata": {
        "id": "dZP1nW7m0LUH"
      },
      "source": [
        "# PARA RESPONDER A LA PREGUNTA 6, PROBAR\n",
        "    # H_0: \\beta_4 = 0 vs. H_1: \\beta_4 \\neq 0. RECHAZAR SI p < alpha.\n",
        "\n",
        "# AL RECHAZAR ESTA HIPÓTESIS SE PRUEBA QUE EL NIVEL DE CONCENTRACIÓN SÍ INFLUYE EN EL NÚMERO FINAL DE BACTERIAS"
      ],
      "execution_count": 22,
      "outputs": []
    },
    {
      "cell_type": "markdown",
      "metadata": {
        "id": "q6iHPf6F0LUJ"
      },
      "source": [
        "# 7. Concluya el reporte resaltando lo encontrado en su análisis."
      ]
    },
    {
      "cell_type": "code",
      "metadata": {
        "id": "Oq8rpNko0LUK"
      },
      "source": [
        "# DAR INTERVALOS DE CONFIANZA DE LA RESPUESTA MEDIA PARA CADA TRATAMIENTO.\n",
        "# POR EJEMPLO, EL INTERVALO DE 95% DE CONFIANZA PARA LA RESPUESTA MEDIA SI X_0 = (1, 0, 1, 1, 0, 0, 0, 1, 0, 0 )\n",
        "# CORRESPONDE A LA CANTIDAD DE BACTERIAS ESPERADA SI 90ºC, ÁCIDO, BAJA (EL PRIMER 1 ES EL INTERCEPT)\n",
        "\n",
        "# COMENTAR SI COINCIDE CON LO QUE SE ESPERARÍA A PARTIR DEL BOXPLOT."
      ],
      "execution_count": 23,
      "outputs": []
    },
    {
      "cell_type": "code",
      "metadata": {
        "id": "tvZ0GG9U0LUN"
      },
      "source": [
        "# COMPLEMENTOS SI QUEDA ESPACIO/TIEMPO: \n",
        "# UTILIZAR SUMA DE CUADRADOS EXTRA PARA VER SI SE PODRÍAN ELIMINAR ALGUNAS INTERACCIONES"
      ],
      "execution_count": 24,
      "outputs": []
    },
    {
      "cell_type": "markdown",
      "metadata": {
        "id": "fa0a7ZCE0LUP"
      },
      "source": [
        "# Conclusiones"
      ]
    },
    {
      "cell_type": "code",
      "metadata": {
        "id": "kDZmfJKn0LUQ"
      },
      "source": [
        ""
      ],
      "execution_count": 24,
      "outputs": []
    }
  ]
}