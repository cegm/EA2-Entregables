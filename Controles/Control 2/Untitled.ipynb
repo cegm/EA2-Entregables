{
 "cells": [
  {
   "cell_type": "code",
   "execution_count": 8,
   "metadata": {},
   "outputs": [
    {
     "name": "stdout",
     "output_type": "stream",
     "text": [
      "A Andrea le tocan los ejercicios 1 y 2\n",
      "A Mónica le tocan los ejercicios 3.a, 3.b, 3.c, 3.g\n",
      "A Eduardo le tocan los ejercicios 3.d, 3.e, 3.f, 3.h\n"
     ]
    }
   ],
   "source": [
    "import random\n",
    "\n",
    "nombres = [\"Andrea\", \"Eduardo\", \"Mónica\"]\n",
    "nombres = [\"Andrea\", \"Mónica\", \"Eduardo\"]\n",
    "ejercicios = [\"1 y 2\", \"3.a, 3.b, 3.c, 3.g\", \"3.d, 3.e, 3.f, 3.h\"]\n",
    "\n",
    "#random.shuffle(nombres)\n",
    "\n",
    "for nombre, ejercicio in zip(nombres,ejercicios):\n",
    "    print(f\"A {nombre} le tocan los ejercicios {ejercicio}\")"
   ]
  }
 ],
 "metadata": {
  "kernelspec": {
   "display_name": "Python 3",
   "language": "python",
   "name": "python3"
  },
  "language_info": {
   "codemirror_mode": {
    "name": "ipython",
    "version": 3
   },
   "file_extension": ".py",
   "mimetype": "text/x-python",
   "name": "python",
   "nbconvert_exporter": "python",
   "pygments_lexer": "ipython3",
   "version": "3.8.3"
  }
 },
 "nbformat": 4,
 "nbformat_minor": 4
}
