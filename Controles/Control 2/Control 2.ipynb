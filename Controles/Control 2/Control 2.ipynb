{
 "cells": [
  {
   "cell_type": "markdown",
   "metadata": {},
   "source": [
    "# Introducción"
   ]
  },
  {
   "cell_type": "markdown",
   "metadata": {},
   "source": [
    "En un estudio sobre consumo de agua (m$^2$/mes) en cierta ciudad se supuso que el consumo estaría relacionado con el correspondiente consumo de energía eléctrica (kW/h). Construya un modelo que relacione ambos consumos, considerando el consumo de agua como la respuesta."
   ]
  },
  {
   "cell_type": "markdown",
   "metadata": {},
   "source": [
    "# a) Grafique los datos y comente."
   ]
  },
  {
   "cell_type": "code",
   "execution_count": 3,
   "metadata": {},
   "outputs": [
    {
     "data": {
      "text/plain": [
       "\"\\n%matplotlib inline\\n%config InlineBackend.figure_format = 'retina'\\n\\n#Options\\nparams = {'font.family':'STIXGeneral',\\n          'text.usetex' : True,\\n          'font.size' : 11,\\n          #'figure.dpi':100\\n          }\\n\\nplt.rcParams.update(params) \\n\""
      ]
     },
     "execution_count": 3,
     "metadata": {},
     "output_type": "execute_result"
    }
   ],
   "source": [
    "# Importación de librerías y configuraciones generales.\n",
    "import pandas as pd\n",
    "import numpy as np\n",
    "import seaborn as sns\n",
    "import matplotlib\n",
    "import matplotlib.pyplot as plt\n",
    "from scipy import stats\n",
    "\n",
    "pd.options.display.precision = 2 # Para 2 decimales.\n",
    "\n",
    "\"\"\"\n",
    "%matplotlib inline\n",
    "%config InlineBackend.figure_format = 'retina'\n",
    "\n",
    "#Options\n",
    "params = {'font.family':'STIXGeneral',\n",
    "          'text.usetex' : True,\n",
    "          'font.size' : 11,\n",
    "          #'figure.dpi':100\n",
    "          }\n",
    "\n",
    "plt.rcParams.update(params) \n",
    "\"\"\""
   ]
  },
  {
   "cell_type": "code",
   "execution_count": null,
   "metadata": {},
   "outputs": [],
   "source": [
    "def get_x_bar(df, x):\n",
    "    return df[x].mean()\n",
    "\n",
    "def get_y_bar(df, y):\n",
    "    return df[y].mean()\n",
    "\n",
    "def get_S_xx(df, x):\n",
    "    return ((df[x] - x_bar(df, x))**2).sum()\n",
    "\n",
    "def fit(df, x, y):\n",
    "    \"\"\"\n",
    "    df: DataFrame con la columna del regresor y la columna de la variable respuesta.\n",
    "    x:  str con el nombre de la columna del regresor.\n",
    "    y:  str con el nombre de la columna de la variable respuesta.\n",
    "    \"\"\"\n",
    "    x_bar = get_x_bar(df, x) # Promedio de observaciones del regresor.\n",
    "    y_bar = get_y_bar(df, y) # Promedio de observaciones de la variable respuesta.\n",
    "\n",
    "    S_xy = (df[y]*(df[x] - x_bar)).sum()\n",
    "    S_xx = get_S_xx(df, x)\n",
    "\n",
    "    beta_1 = S_xy/S_xx # Estimador de mínimos cuadrados de la pendiente del modelo de regresión lineal.\n",
    "    beta_0 = y_bar - beta_1*x_bar  # Estimador de mínimos cuadrados del intercept del modelo de regresión lineal.\n",
    "\n",
    "    y_fit = beta_0 + beta_1*df[x] # Ajuste de regresión lineal\n",
    "    y_fit.rename(\"y_fit\", inplace = True)\n",
    "    \n",
    "    return y_fit, beta_0, beta_1\n",
    "\n",
    "def get_SS_res(df, y, y_fitted):\n",
    "    \"\"\"\n",
    "    df:       DataFrame con la columna de la variable respuesta y la columna de la respuesta ajustada.\n",
    "    y:        str con el nombre de la columna de la variable respuesta.\n",
    "    y_fitted: str con el nombre de la columna de la respuesta ajustada.\n",
    "    \"\"\"\n",
    "    return sum((df[y] - df[y_fitted])**2)\n",
    "\n",
    "def get_MS_res(df, y, y_fit):\n",
    "    n = len(df.index) # Número de observaciones\n",
    "    return (1/(n-2))*get_SS_res(df, y, y_fit)\n",
    "\n",
    "def test_beta_0(df, x, y, y_fit, beta_0, beta_0_test = 0, alpha = 0.05):\n",
    "    n = len(df.index) # Número de observaciones\n",
    "    \n",
    "    x_bar = get_x_bar(df, x)\n",
    "    S_xx = get_S_xx(df, x)\n",
    "    MS_res = get_MS_res(df, y, y_fit)\n",
    "    \n",
    "    t_0 = np.round((beta_0 - beta_0_test)/(np.sqrt(MS_res*(1/n + x_bar**2/S_xx))), 2)\n",
    "    nu = n - 2\n",
    "    test_statistic = np.round(stats.t.ppf(alpha/2, nu), 2)\n",
    "    \n",
    "    if abs(t_0) > test_statistic:\n",
    "        print(f\"Como |t_0| = {abs(t_0)} > {test_statistic} = t(𝛼/2, n-2), se rechaza la hipótesis nula H_0: 𝛽_0 = {beta_0_test}\")\n",
    "    else:\n",
    "        print(f\"Como |t_0| = {abs(t_0)} <= {test_statistic} = t(𝛼/2, n-2), NO se rechaza la hipótesis nula H_0: 𝛽_0 = {beta_0_test}\")\n",
    "    return t_0, test_statistic\n",
    "\n",
    "def test_beta_1(df, x, y, y_fitted, beta_1, beta_1_test = 0, alpha = 0.05):\n",
    "    n = len(df.index) # Número de observaciones\n",
    "    \n",
    "    S_xx = get_S_xx(df, x)\n",
    "    MS_res = get_MS_res(df, y, y_fitted)\n",
    "    \n",
    "    t_0 = np.round((beta_1 - beta_1_test)/(np.sqrt(MS_res/S_xx)), 2)\n",
    "    nu = n - 2\n",
    "    test_statistic = np.round(stats.t.ppf(alpha/2, nu), 2)\n",
    "    \n",
    "    if abs(t_0) > test_statistic:\n",
    "        print(f\"Como |t_0| = {abs(t_0)} > {test_statistic} = t(𝛼/2, n-2), se rechaza la hipótesis nula H_0: 𝛽_1 = {beta_1_test}\")\n",
    "    else:\n",
    "        print(f\"Como |t_0| = {abs(t_0)} <= {test_statistic} = t(𝛼/2, n-2), NO se rechaza la hipótesis nula H_0: 𝛽_1 = {beta_1_test}\")\n",
    "    return t_0, test_statistic\n",
    "\n",
    "def get_SS_r(df, y, y_fit):\n",
    "    return sum((df[y_fit] - get_y_bar(df, y))**2)\n",
    "\n",
    "# No sé por qué la estadística de prueba de F(alpha, 1, n-2) no es la que debería ser.\n",
    "\"\"\"\n",
    "def test_analysis_of_variance(df, y, y_fit, beta_1_test = 0, alpha = 0.05):\n",
    "    n = len(df.index) # Número de observaciones\n",
    "    SS_res = get_SS_res(df, y, y_fit)\n",
    "    SS_r = get_SS_r(df, y, y_fit)\n",
    "    nu = n - 2\n",
    "    \n",
    "    F_0 = np.round(((SS_r/1)/(SS_res/nu)), 2)\n",
    "    test_statistic = np.round(stats.f.ppf(alpha,1, nu), 2)\n",
    "    \n",
    "    if F_0 > test_statistic:\n",
    "        print(f\"Como |F_0| = {abs(F_0)} > {test_statistic} = F(𝛼, 1, n-2), se rechaza la hipótesis nula H_0: 𝛽_1 = {beta_1_test}\")\n",
    "    else:\n",
    "        print(f\"Como |F_0| = {abs(F_0)} <= {test_statistic} = F(𝛼, 1, n-2), NO se rechaza la hipótesis nula H_0: 𝛽_1 = {beta_1_test}\")\n",
    "    return F_0, test_statistic \n",
    "\"\"\"\n",
    "\n",
    "def get_SS_t(df, y):\n",
    "    return sum((df[y] - get_y_bar(df, y))**2)\n",
    "    \n",
    "def get_R_2(df, y, y_fit):\n",
    "    return np.round(get_SS_r(df, y, y_fit)/get_SS_t(df, y), 4)\n",
    "\n",
    "\n",
    "def get_lambda(df, x, y, l_lb = -1, l_ub = 1,  num_l = 9):\n",
    "    lambdas = np.linspace(l_lb, l_ub, num_l)\n",
    "    SS_trans_res = []\n",
    "    for l in lambdas:\n",
    "        y_trans = box_cox_transformation(df, y, l)\n",
    "        trans_df = pd.concat([df, y_trans], axis = 1)\n",
    "        trans_df[\"y_fit\"], _, _ = fit(trans_df, x, \"y_trans\")\n",
    "        SS_trans_res.append(get_SS_res(trans_df, \"y_trans\", \"y_fit\"))\n",
    "\n",
    "    min_index = SS_trans_res.index(min(SS_trans_res))\n",
    "    l = lambdas[min_index]\n",
    "    classification = [\" \" for i in range(0,len(lambdas))]\n",
    "    classification[min_index] = \"Óptimo\"\n",
    "\n",
    "    dictionary = {\"$\\lambda$\": lambdas, \"$SC_{{Res}}(\\lambda)$\": SS_trans_res, \"Clasificación\": classification}\n",
    "    lambda_df = pd.DataFrame.from_dict(dictionary)\n",
    "    return lambda_df\n",
    "\n",
    "def box_cox_transformation(df, y, l):\n",
    "    n = len(df.index) # Número de observaciones\n",
    "    y_dot = (df[y].prod())**(1/n) # Promedio geométrico de las observaciones de la variable respuesta\n",
    "    if l == 0:\n",
    "        y_trans = y_dot*np.log(df[y])\n",
    "    else:\n",
    "        y_trans = (1/(l*y_dot**(l-1)))*(df[y]**l - 1)\n",
    "    y_trans.rename(\"y_trans\", inplace = True)\n",
    "    return y_trans\n",
    "\n",
    "def box_cox_transformation_single_obs(df, y, l, y_0):\n",
    "    n = len(df.index) # Número de observaciones\n",
    "    y_dot = float((df[y].prod())**(1/n)) # Promedio geométrico de las observaciones de la variable respuesta\n",
    "    if l == 0:\n",
    "        y = y_dot*np.log(y_0)\n",
    "    else:\n",
    "        y = (1/(l*y_dot**(l-1)))*(y_0**l - 1)\n",
    "    return y\n",
    "\n",
    "def inv_box_cox_transformation_single_obs(df, y, l, y_lambda_0):\n",
    "    n = len(df.index) # Número de observaciones\n",
    "    y_dot = float((df[y].prod())**(1/n)) # Promedio geométrico de las observaciones de la variable respuesta\n",
    "    if l == 0:\n",
    "        y = np.exp(y_lambda_0/y_dot)\n",
    "    else:\n",
    "        y = (l*y_lambda_0*y_dot**(l-1)+1)**(1/l)\n",
    "    return y\n",
    "\n",
    "def prediction_CI(df, x, y, y_fit, x_0, beta_0, beta_1, alpha = 0.05):\n",
    "    y_0 = beta_0 + beta_1*x_0\n",
    "    \n",
    "    n = len(df.index) # Número de observaciones\n",
    "    nu = n - 2\n",
    "    test_statistic = stats.t.ppf(alpha/2, nu)\n",
    "    \n",
    "    x_bar = get_x_bar(df, x)\n",
    "    S_xx = get_S_xx(df, x)\n",
    "    MS_res = get_MS_res(df, y, y_fit)\n",
    "    \n",
    "    CI_lb = y_0 - test_statistic*np.sqrt(MS_res*(1 + 1/n + (x_0 - x_bar)**2/S_xx))\n",
    "    CI_ub = y_0 + test_statistic*np.sqrt(MS_res*(1 + 1/n + (x_0 - x_bar)**2/S_xx))\n",
    "    \n",
    "    CI_lb, CI_ub = min(CI_lb, CI_ub), max(CI_lb, CI_ub)\n",
    "    \n",
    "    return CI_lb, CI_ub"
   ]
  },
  {
   "cell_type": "code",
   "execution_count": 90,
   "metadata": {},
   "outputs": [],
   "source": [
    "# Función para graficar scatter plot con opción para incluir o no el ajuste de regresión lineal.\n",
    "def scatter_fit_plot(df, x, y, color = \"blue\", trans = False, **kwargs):\n",
    "    plt.figure()\n",
    "    plt.figure(figsize=(10,10))\n",
    "    plt.xticks(fontsize=14)\n",
    "    plt.yticks(fontsize=14)\n",
    "    plt.xlabel(x,fontsize=20)\n",
    "    plt.ylabel(y, fontsize=20)\n",
    "    plt.title(y + \" vs. \" + x, fontsize=20)\n",
    "    \n",
    "    if trans: \n",
    "        label = \"Valores transformados\"\n",
    "    else:\n",
    "        label = \"Valores observados\"\n",
    "    scatter = plt.scatter(df[x], df[y], \n",
    "                          c = color, \n",
    "                          s = 100, \n",
    "                          alpha = 0.6, \n",
    "                          label = label)\n",
    "    \n",
    "    if \"y_fit\" in kwargs:\n",
    "        y_fit = kwargs.get(\"y_fit\")\n",
    "        \n",
    "        if \"beta_0\" in kwargs:\n",
    "            beta_0 = kwargs.get(\"beta_0\")\n",
    "        \n",
    "        if \"beta_1\" in kwargs:\n",
    "            beta_1 = kwargs.get(\"beta_1\")\n",
    "            \n",
    "        if beta_1 > 0:\n",
    "            sign = \"+\"\n",
    "        else:\n",
    "            sign = \"-\"\n",
    "        \n",
    "        line = plt.plot(df[x], df[y_fit], \n",
    "                        c = \"#75cd01\",\n",
    "                        label = f\"Valores ajustados: \\n y = {np.round(beta_0,2)} {sign} {abs(np.round(beta_1,2))}x\")\n",
    "        \n",
    "\n",
    "    plt.legend(prop={'size': 15})\n",
    "    plt.show()"
   ]
  },
  {
   "cell_type": "code",
   "execution_count": null,
   "metadata": {},
   "outputs": [],
   "source": [
    "# Leer los datos del archivo `control2.dat` cuyas columnas están separadas por múltiples espacios.\n",
    "df = pd.read_csv('control2.dat', sep='\\s+')\n",
    "\n",
    "# A lo largo del doc se alterna entre las etiquetas para tener resultados presentables y código legible.\n",
    "pretty_columns = [\"Consumo eléctrico [kW/h]\", \"Consumo de agua [m$^2$/mes]\"] # Columnas para display, plot, etc.\n",
    "working_columns = [\"x\", \"y\"] # Columnas para código y cálculos.\n",
    "\n",
    "df.columns = [\"Observación\"] + pretty_columns\n",
    "\n",
    "# Etiquetar las observaciones con las numeración provista\n",
    "df = df.set_index('Observación')"
   ]
  },
  {
   "cell_type": "code",
   "execution_count": null,
   "metadata": {},
   "outputs": [],
   "source": [
    "display(df.head())"
   ]
  },
  {
   "cell_type": "markdown",
   "metadata": {},
   "source": [
    "# b) Ajuste un modelo de regresión lineal simple sobre los datos sin transformar."
   ]
  },
  {
   "cell_type": "code",
   "execution_count": null,
   "metadata": {},
   "outputs": [],
   "source": []
  },
  {
   "cell_type": "markdown",
   "metadata": {},
   "source": [
    "# c) Verifique su modelo via análisis de residuales. Comente."
   ]
  },
  {
   "cell_type": "code",
   "execution_count": null,
   "metadata": {},
   "outputs": [],
   "source": []
  },
  {
   "cell_type": "markdown",
   "metadata": {},
   "source": [
    "# d) Aplique la transformación de Box-Cox y construya un intervalo del 90% de confianza para $\\lambda$. ¿Que valor de $\\lambda$ elegiría para la trasformación? Comente."
   ]
  },
  {
   "cell_type": "markdown",
   "metadata": {},
   "source": [
    "Aplicar la transformación de Box-Cox a la variable respuesta puede mejorar el ajuste y puede corregir violaciones de los supuestos del modelo de regresión lineal simple. Un requisito para poder aplicar esta transformación es que la variable respuesta conste únicamente de entradas positivas. Para validar que los datos disponibles satisfagan este requisito a continuación se cuenta la cantidad de entradas no positivas de la variable respuesta."
   ]
  },
  {
   "cell_type": "code",
   "execution_count": null,
   "metadata": {},
   "outputs": [],
   "source": [
    "df.columns = working_columns\n",
    "count = len(df[df[\"y\"] <= 0].index)\n",
    "print(f\"El número de entradas no positivas de la variable respuesta es: {count}\")"
   ]
  },
  {
   "cell_type": "markdown",
   "metadata": {},
   "source": [
    "La transformación de Box-Cox está dada por\n",
    "$$\n",
    "y^{(\\lambda)} = \n",
    "\\begin{cases}\n",
    "\\frac{y^{\\lambda}-1}{\\lambda\\dot{y}^{\\lambda-1}} & \\text{si } \\lambda \\neq 0 \\\\\n",
    "\\dot{y}\\log(y) & \\text{si } \\lambda = 0 \\\\\n",
    "\\end{cases}\n",
    "\\quad \n",
    "\\text{donde}\n",
    "\\quad\n",
    "\\dot{y} = \\left(\\prod_{i = 1}^n y_i\\right)^{\\frac{1}{n}}\n",
    "$$"
   ]
  },
  {
   "cell_type": "markdown",
   "metadata": {},
   "source": [
    "Para poder aplicar directamente la fórmula de $y^{(\\lambda)}$ de la transformación de Box-Cox, primero es necesario encontrar un valor óptimo $\\hat{\\lambda}$. El criterio de optimalidad para el parámetro $\\hat{\\lambda}$ es que la suma de los cuadrados de los residuales resultante de ajustar el modelo a partir de la respuesta sea mínima; es decir, $\\lambda$ está dado por\n",
    "\n",
    "$$\n",
    "\\begin{align}\n",
    "\\hat{\\lambda} &= \\arg \\min_{\\lambda \\in \\mathbb{R}} SC_{\\text{Res}}(\\lambda)  \\\\\n",
    "&= \\arg \\min_{\\lambda \\in \\mathbb{R}} \\sum_{i = 1}^n \\left(y_i - y_i^{(\\lambda)}\\right)^2\n",
    "\\end{align}\n",
    "$$"
   ]
  },
  {
   "cell_type": "markdown",
   "metadata": {},
   "source": [
    "En la práctica, se elige un rango de valores de prueba del parámetro $\\lambda$, se aplica la transfarmación de Box-Cox para cada uno de los valores dentro del rango, se ajusta el modelo para cada una de las transformaciones de la respuesta original y se utiliza aquél valor de $\\lambda$ con el que se obtenga la suma de cuadrados de los residuales $SC_{\\text{Res}}(\\lambda)$ mínima.\n",
    "\n",
    "El resultado de aplicar este procedimiento con $\\lambda \\in [-1, 1]$ se muestra a continuación."
   ]
  },
  {
   "cell_type": "code",
   "execution_count": null,
   "metadata": {},
   "outputs": [],
   "source": [
    "lambda_df = get_lambda(df, \"x\", \"y\")\n",
    "pd.options.display.width = 500000\n",
    "styles = [dict(selector=\"caption\", \n",
    "    props=[(\"text-align\", \"center\"),\n",
    "    (\"font-size\", \"120%\"),\n",
    "    (\"color\", 'black')])]\n",
    "lambda_df = lambda_df.style.set_caption('Tabla X: Estimación de $\\hat{\\lambda}$ para la trasformación de Box-Cox').set_table_styles(styles)\n",
    "#display(lambda_df)\n",
    "\n",
    "\n",
    "from pandas import option_context\n",
    "\n",
    "with option_context('display.width', 60000):\n",
    "    display(lambda_df)\n",
    "\n",
    "lambda_df.columns = [\"$\\lambda$\", \"$SC_{\\text{Res}}(\\lambda)$\", \"Clasificación\"]"
   ]
  },
  {
   "cell_type": "markdown",
   "metadata": {},
   "source": [
    "De los valores de $\\lambda$ dentro del rango seleccionado, se obtiene un valor mínimo de la suma de cuadrados de los residuales $SC_{\\text{Res}}(\\lambda)$ con $\\lambda =$ -0.25. Es importante reslatar que la precisión de esta estimación depende de la cantidad de valores dentro del rango considerado, i.e. entre más fina sea la partición del intervalo de valores de prueba de $\\lambda$, más precisa será la estimación de $\\hat{\\lambda}$.\n",
    "\n",
    "Aunque probablemente haya un estimador más preciso de $\\hat{\\lambda}$, utilizar el valor $\\lambda =$  -0.25 tiene la ventaja de la interpretación de que la transformación consiste en tomar el recíproco de la variable respuesta y aplicarle dos veces la función raíz cuadrada.\n",
    "\n",
    "Para ver que $\\lambda =$ -0.25 es un valor adecuado para la transformación de Box-Cox, a continuación se obtiene gráficamente un intervalo de confianza para $\\hat{\\lambda}$."
   ]
  },
  {
   "cell_type": "code",
   "execution_count": null,
   "metadata": {},
   "outputs": [],
   "source": [
    "def get_CI(lambda_df, n, alpha):\n",
    "    nu = n-2\n",
    "    opt_index = lambda_df.index[lambda_df['Clasificación'] == \"Óptimo\"]\n",
    "    \n",
    "    lambda_opt = float(lambda_df.loc[lambda_df.index.isin(opt_index), \"$\\lambda$\"])\n",
    "    SC_lambda_opt = float(lambda_df.loc[lambda_df.index.isin(opt_index), \"$SC_{\\text{Res}}(\\lambda)$\"])\n",
    "    SS = SC_lambda_opt*(1 + ((stats.t.ppf(1-alpha/2, nu))**2)/(nu))\n",
    "    \n",
    "    lambda_df.loc[:, \"$SS$\"] = SS\n",
    "    \n",
    "    intervalo_df = lambda_df[lambda_df[\"$SC_{\\text{Res}}(\\lambda)$\"] <= SS]\n",
    "    n_intervalo = len(intervalo_df.index)\n",
    "    intervalo_lb = float(intervalo_df.loc[intervalo_df.index == intervalo_df.index[0], \"$\\lambda$\"])\n",
    "    intervalo_ub = float(intervalo_df.loc[intervalo_df.index == intervalo_df.index[n_intervalo-1], \"$\\lambda$\"])\n",
    "    \n",
    "    plt.figure()\n",
    "    plt.figure(figsize=(10,10))\n",
    "    plt.xticks(fontsize=14)\n",
    "    plt.yticks(fontsize=14)\n",
    "    caption=\"\\n Figura X: Intervalo de\" + f\" {100*(1-alpha)} \" + r\"% de confianza para $\\hat{\\lambda}$\"\n",
    "    plt.xlabel(r\"$\\lambda$\" + caption,fontsize=20)\n",
    "    plt.ylabel(r\"$SC_{Res}(\\lambda)$\", fontsize=20)\n",
    "    plt.title(r\"$SC_{Res}(\\lambda)$\" + \" vs. \" + r\"$\\lambda$\",fontsize=20)\n",
    "    plt.axvspan(intervalo_lb, \n",
    "                intervalo_ub, \n",
    "                alpha=0.05, \n",
    "                color='red', \n",
    "                label = \"Intervalo de confianza\")\n",
    "    plt.plot(lambda_df.loc[:, \"$\\lambda$\"], \n",
    "             lambda_df.loc[:, \"$SC_{\\text{Res}}(\\lambda)$\"], \n",
    "             label = r\"$SC_{Res}(\\lambda)$\")\n",
    "    plt.plot(lambda_df.loc[:, \"$\\lambda$\"], \n",
    "             lambda_df.loc[:, \"$SS$\"], \n",
    "             label = r\"Altura $SC^*$\" )\n",
    "    plt.scatter(lambda_opt, \n",
    "                SC_lambda_opt, \n",
    "                marker = \"*\",\n",
    "                color = \"red\",\n",
    "                s = 100,\n",
    "                label = r\"$\\hat{\\lambda}$\")\n",
    "    plt.legend(prop={'size': 15})\n",
    "    \n",
    "    plt.show()\n",
    "\n",
    "n = len(df.index)\n",
    "alpha = 0.1\n",
    "lambda_df = get_lambda(df, \"x\", \"y\",  num_l = 100)\n",
    "lambda_df.columns = [\"$\\lambda$\", \"$SC_{\\text{Res}}(\\lambda)$\", \"Clasificación\"]\n",
    "get_CI(lambda_df, n, alpha)"
   ]
  },
  {
   "cell_type": "markdown",
   "metadata": {},
   "source": [
    "El punto importante a notar en la Figura X es que $\\lambda =$  -0.25 se encuentra dentro del intervalo de 90 %  de confianza obtenido para $\\hat{\\lambda}$."
   ]
  },
  {
   "cell_type": "markdown",
   "metadata": {},
   "source": [
    "# e) Grafique $y^{(\\lambda)}$ vs. $x$. Comente."
   ]
  },
  {
   "cell_type": "markdown",
   "metadata": {},
   "source": [
    "A continuación se transforma la variable respuesta utilizando la transformación de Box-Cox con $\\lambda =$  -0.25 y se grafican los resultados."
   ]
  },
  {
   "cell_type": "code",
   "execution_count": null,
   "metadata": {},
   "outputs": [],
   "source": [
    "working_columns = [\"x\", \"y\"]\n",
    "df.columns = working_columns\n",
    "df[\"y_trans\"] = box_cox_transformation(df, \"y\", -0.25)"
   ]
  },
  {
   "cell_type": "code",
   "execution_count": null,
   "metadata": {},
   "outputs": [],
   "source": [
    "pretty_columns = [\"Consumo eléctrico [kW/h]\", \n",
    "                  \"Consumo de agua [m$^2$/mes]\", \n",
    "                  \"Transformación deConsumo de agua [m$^2$/mes]\"]\n",
    "df.columns = pretty_columns\n",
    "scatter_fit_plot(df, pretty_columns[0], pretty_columns[1])"
   ]
  },
  {
   "cell_type": "code",
   "execution_count": null,
   "metadata": {},
   "outputs": [],
   "source": [
    "pretty_columns = [\"Consumo eléctrico [kW/h]\", \n",
    "                  \"Consumo de agua [m$^2$/mes]\", \n",
    "                  \"Transformación de Consumo de agua [m$^2$/mes]\"]\n",
    "df.columns = pretty_columns\n",
    "scatter_fit_plot(df, pretty_columns[0], pretty_columns[2], trans = True)"
   ]
  },
  {
   "cell_type": "markdown",
   "metadata": {},
   "source": [
    "# f) Ajuste el modelo correspondiente y valídelo. Comente."
   ]
  },
  {
   "cell_type": "code",
   "execution_count": 54,
   "metadata": {},
   "outputs": [],
   "source": [
    "df = pd.read_csv(\"../../../Datos/propellant.dat\", sep='\\s+')\n",
    "df = df.set_index('obs')\n",
    "working_columns = [\"y\", \"x\"]\n",
    "df.columns = working_columns\n",
    "df = df.filter([\"x\", \"y\"])\n",
    "\n",
    "\n",
    "df[\"y_fit\"], beta_0, beta_1 = fit(df, \"x\", \"y\")\n",
    "\n",
    "pretty_columns = [\"Fuerza [psi]\", \n",
    "                  \"Edad [semanas]\", \n",
    "                  \"Ajuste lineal\"]\n",
    "df.columns = pretty_columns"
   ]
  },
  {
   "cell_type": "code",
   "execution_count": 12,
   "metadata": {},
   "outputs": [
    {
     "data": {
      "text/plain": [
       "<Figure size 432x288 with 0 Axes>"
      ]
     },
     "metadata": {},
     "output_type": "display_data"
    },
    {
     "data": {
      "image/png": "[encoded data removed]",
      "text/plain": [
       "<Figure size 720x720 with 1 Axes>"
      ]
     },
     "metadata": {
      "needs_background": "light"
     },
     "output_type": "display_data"
    }
   ],
   "source": [
    "scatter_fit_plot(df, pretty_columns[0], pretty_columns[1], y_fit = pretty_columns[2], beta_0 = beta_0, beta_1 = beta_1)"
   ]
  },
  {
   "cell_type": "code",
   "execution_count": 55,
   "metadata": {},
   "outputs": [
    {
     "name": "stdout",
     "output_type": "stream",
     "text": [
      "Como |t_0| = 59.47 > -2.1 = t(𝛼/2, n-2), se rechaza la hipótesis nula H_0: 𝛽_0 = 0\n",
      "Como |t_0| = 12.86 > -2.1 = t(𝛼/2, n-2), se rechaza la hipótesis nula H_0: 𝛽_1 = 0\n"
     ]
    }
   ],
   "source": [
    "working_columns = [\"x\", \"y\", \"y_fit\"]\n",
    "df.columns = working_columns\n",
    "test_beta_0(df, \"x\", \"y\", \"y_fit\", beta_0)\n",
    "test_beta_1(df, \"x\", \"y\", \"y_fit\", beta_1)"
   ]
  },
  {
   "cell_type": "code",
   "execution_count": 56,
   "metadata": {},
   "outputs": [
    {
     "name": "stdout",
     "output_type": "stream",
     "text": [
      "Como |F_0| = 165.38 > 0.0 = F(𝛼, 1, n-2), se rechaza la hipótesis nula H_0: 𝛽_1 = 0\n"
     ]
    }
   ],
   "source": [
    "test_analysis_of_variance(df, \"y\", \"y_fit\", alpha = 0.01)\n",
    "    "
   ]
  },
  {
   "cell_type": "code",
   "execution_count": 64,
   "metadata": {},
   "outputs": [
    {
     "data": {
      "text/plain": [
       "0.9018"
      ]
     },
     "execution_count": 64,
     "metadata": {},
     "output_type": "execute_result"
    }
   ],
   "source": [
    "get_R_2(df, \"y\", \"y_fit\")\n",
    "#get_y_bar(df, y)"
   ]
  },
  {
   "cell_type": "code",
   "execution_count": null,
   "metadata": {},
   "outputs": [],
   "source": [
    "# ESTA ES LA PRIMERA\n",
    "working_columns = [\"x\", \"y\", \"y_trans\"]\n",
    "df.columns = working_columns\n",
    "\n",
    "\n",
    "df[\"y_fit\"], beta_0, beta_1 = fit(df, \"x\", \"y\")\n",
    "pretty_columns = [\"Consumo eléctrico [kW/h]\", \n",
    "                  \"Consumo de agua [m$^2$/mes]\", \n",
    "                  \"Transformación de Consumo de agua [m$^2$/mes]\",\n",
    "                  \"Ajuste lineal (respuesta original)\"]\n",
    "df.columns = pretty_columns"
   ]
  },
  {
   "cell_type": "code",
   "execution_count": null,
   "metadata": {},
   "outputs": [],
   "source": [
    "scatter_fit_plot(df, pretty_columns[0], pretty_columns[1], y_fit = pretty_columns[3], beta_0 = beta_0, beta_1 = beta_1)"
   ]
  },
  {
   "cell_type": "code",
   "execution_count": null,
   "metadata": {},
   "outputs": [],
   "source": [
    "working_columns = [\"x\", \"y\", \"y_trans\", \"y_fit\"]\n",
    "df.columns = working_columns\n",
    "\n",
    "\n",
    "df[\"y_fit_trans\"], beta_0, beta_1 = fit(df, \"x\", \"y_trans\")\n",
    "pretty_columns = [\"Consumo eléctrico [kW/h]\", \n",
    "                  \"Consumo de agua [m$^2$/mes]\", \n",
    "                  \"Transformación de Consumo de agua [m$^2$/mes]\",\n",
    "                  \"Ajuste lineal (respuesta original)\", \n",
    "                  \"Ajuste lineal (respuesta transformada)\"]\n",
    "df.columns = pretty_columns\n",
    "                  \n",
    "scatter_fit_plot(df, pretty_columns[0], pretty_columns[2], y_fit = pretty_columns[4], beta_0 = beta_0, beta_1 = beta_1)"
   ]
  },
  {
   "cell_type": "markdown",
   "metadata": {},
   "source": [
    "# g) Construya un intervalo del 90% confianza para el consumo **medio** esperado si el consumo de energía eléctrica es de 7.57 kw/hr. (Nota: el intervalo es para el consumo de agua, no la respuesta transformada.)."
   ]
  },
  {
   "cell_type": "code",
   "execution_count": 89,
   "metadata": {},
   "outputs": [
    {
     "name": "stdout",
     "output_type": "stream",
     "text": [
      "El valor y_0 ∈ (1.1675, 1.1973) con 90.0 % de confianza para x_0 = 7.57\n"
     ]
    }
   ],
   "source": [
    "alpha = 0.1\n",
    "x_0 = 7.57\n",
    "CI_lb, CI_ub = prediction_CI(df, \"x\", \"y\", \"y_fit\", x_0, beta_0, beta_1, alpha = alpha)\n",
    "CI_lb = np.round(inv_box_cox_transformation_single_obs(df, \"y\", -0.25, CI_lb), 4)\n",
    "CI_ub = np.round(inv_box_cox_transformation_single_obs(df, \"y\", -0.25, CI_ub), 4)\n",
    "\n",
    "print(f\"El valor y_0 ∈ ({CI_lb}, {CI_ub}) con {100*(1-alpha)} % de confianza para x_0 = {x_0}\")"
   ]
  },
  {
   "cell_type": "markdown",
   "metadata": {},
   "source": [
    "# h) Construya un intervalo de predicción de 95 % para la demanda esperada si la generación de energía es de 5.1 kw/hr."
   ]
  },
  {
   "cell_type": "code",
   "execution_count": 86,
   "metadata": {},
   "outputs": [
    {
     "name": "stdout",
     "output_type": "stream",
     "text": [
      "El valor y_0 ∈ (1.1719, 1.2089) con 95.0 % de confianza para x_0 = 5.1\n"
     ]
    }
   ],
   "source": [
    "alpha = 0.05\n",
    "x_0 = 5.1\n",
    "CI_lb, CI_ub = prediction_CI(df, \"x\", \"y\", \"y_fit\", x_0, beta_0, beta_1, alpha = alpha)\n",
    "CI_lb = np.round(inv_box_cox_transformation_single_obs(df, \"y\", -0.25, CI_lb), 4)\n",
    "CI_ub = np.round(inv_box_cox_transformation_single_obs(df, \"y\", -0.25, CI_ub), 4)\n",
    "\n",
    "print(f\"El valor y_0 ∈ ({CI_lb}, {CI_ub}) con {100*(1-alpha)} % de confianza para x_0 = {x_0}\")"
   ]
  }
 ],
 "metadata": {
  "kernelspec": {
   "display_name": "Python 3",
   "language": "python",
   "name": "python3"
  },
  "language_info": {
   "codemirror_mode": {
    "name": "ipython",
    "version": 3
   },
   "file_extension": ".py",
   "mimetype": "text/x-python",
   "name": "python",
   "nbconvert_exporter": "python",
   "pygments_lexer": "ipython3",
   "version": "3.8.3"
  }
 },
 "nbformat": 4,
 "nbformat_minor": 4
}
