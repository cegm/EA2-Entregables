{
 "cells": [
  {
   "cell_type": "markdown",
   "metadata": {},
   "source": [
    "# 1. Realice un análisis exploratorio de los datos *Prestigio de las Ocupaciones Canadienses*. ¿Hay algún o algunos detalles que le llamen la atención?"
   ]
  },
  {
   "cell_type": "markdown",
   "metadata": {},
   "source": [
    "Importación de librerías."
   ]
  },
  {
   "cell_type": "code",
   "execution_count": 1,
   "metadata": {},
   "outputs": [],
   "source": [
    "import pandas as pd"
   ]
  },
  {
   "cell_type": "markdown",
   "metadata": {},
   "source": [
    "Leer los datos del archivo `control1.dat` cuyas columnas están separadas por múltiples espacios."
   ]
  },
  {
   "cell_type": "code",
   "execution_count": 2,
   "metadata": {},
   "outputs": [],
   "source": [
    "df = pd.read_csv('control1.dat', sep='\\s+')"
   ]
  },
  {
   "cell_type": "markdown",
   "metadata": {},
   "source": [
    "Visualizar algunas entradas del conjunto de datos."
   ]
  },
  {
   "cell_type": "code",
   "execution_count": 3,
   "metadata": {},
   "outputs": [
    {
     "data": {
      "text/html": [
       "<div>\n",
       "<style scoped>\n",
       "    .dataframe tbody tr th:only-of-type {\n",
       "        vertical-align: middle;\n",
       "    }\n",
       "\n",
       "    .dataframe tbody tr th {\n",
       "        vertical-align: top;\n",
       "    }\n",
       "\n",
       "    .dataframe thead th {\n",
       "        text-align: right;\n",
       "    }\n",
       "</style>\n",
       "<table border=\"1\" class=\"dataframe\">\n",
       "  <thead>\n",
       "    <tr style=\"text-align: right;\">\n",
       "      <th></th>\n",
       "      <th>ocupacion</th>\n",
       "      <th>educacion</th>\n",
       "      <th>ingreso</th>\n",
       "      <th>mujeres</th>\n",
       "      <th>prestigio</th>\n",
       "      <th>censo</th>\n",
       "      <th>tipo</th>\n",
       "    </tr>\n",
       "  </thead>\n",
       "  <tbody>\n",
       "    <tr>\n",
       "      <th>0</th>\n",
       "      <td>GOV.ADMINISTRATORS</td>\n",
       "      <td>13.11</td>\n",
       "      <td>12351</td>\n",
       "      <td>11.16</td>\n",
       "      <td>68.8</td>\n",
       "      <td>1113</td>\n",
       "      <td>prof</td>\n",
       "    </tr>\n",
       "    <tr>\n",
       "      <th>1</th>\n",
       "      <td>GENERAL.MANAGERS</td>\n",
       "      <td>12.26</td>\n",
       "      <td>25879</td>\n",
       "      <td>4.02</td>\n",
       "      <td>69.1</td>\n",
       "      <td>1130</td>\n",
       "      <td>prof</td>\n",
       "    </tr>\n",
       "    <tr>\n",
       "      <th>2</th>\n",
       "      <td>ACCOUNTANTS</td>\n",
       "      <td>12.77</td>\n",
       "      <td>9271</td>\n",
       "      <td>15.70</td>\n",
       "      <td>63.4</td>\n",
       "      <td>1171</td>\n",
       "      <td>prof</td>\n",
       "    </tr>\n",
       "    <tr>\n",
       "      <th>3</th>\n",
       "      <td>PURCHASING.OFFICERS</td>\n",
       "      <td>11.42</td>\n",
       "      <td>8865</td>\n",
       "      <td>9.11</td>\n",
       "      <td>56.8</td>\n",
       "      <td>1175</td>\n",
       "      <td>prof</td>\n",
       "    </tr>\n",
       "    <tr>\n",
       "      <th>4</th>\n",
       "      <td>CHEMISTS</td>\n",
       "      <td>14.62</td>\n",
       "      <td>8403</td>\n",
       "      <td>11.68</td>\n",
       "      <td>73.5</td>\n",
       "      <td>2111</td>\n",
       "      <td>prof</td>\n",
       "    </tr>\n",
       "    <tr>\n",
       "      <th>...</th>\n",
       "      <td>...</td>\n",
       "      <td>...</td>\n",
       "      <td>...</td>\n",
       "      <td>...</td>\n",
       "      <td>...</td>\n",
       "      <td>...</td>\n",
       "      <td>...</td>\n",
       "    </tr>\n",
       "    <tr>\n",
       "      <th>97</th>\n",
       "      <td>BUS.DRIVERS</td>\n",
       "      <td>7.58</td>\n",
       "      <td>5562</td>\n",
       "      <td>9.47</td>\n",
       "      <td>35.9</td>\n",
       "      <td>9171</td>\n",
       "      <td>bc</td>\n",
       "    </tr>\n",
       "    <tr>\n",
       "      <th>98</th>\n",
       "      <td>TAXI.DRIVERS</td>\n",
       "      <td>7.93</td>\n",
       "      <td>4224</td>\n",
       "      <td>3.59</td>\n",
       "      <td>25.1</td>\n",
       "      <td>9173</td>\n",
       "      <td>bc</td>\n",
       "    </tr>\n",
       "    <tr>\n",
       "      <th>99</th>\n",
       "      <td>LONGSHOREMEN</td>\n",
       "      <td>8.37</td>\n",
       "      <td>4753</td>\n",
       "      <td>0.00</td>\n",
       "      <td>26.1</td>\n",
       "      <td>9313</td>\n",
       "      <td>bc</td>\n",
       "    </tr>\n",
       "    <tr>\n",
       "      <th>100</th>\n",
       "      <td>TYPESETTERS</td>\n",
       "      <td>10.00</td>\n",
       "      <td>6462</td>\n",
       "      <td>13.58</td>\n",
       "      <td>42.2</td>\n",
       "      <td>9511</td>\n",
       "      <td>bc</td>\n",
       "    </tr>\n",
       "    <tr>\n",
       "      <th>101</th>\n",
       "      <td>BOOKBINDERS</td>\n",
       "      <td>8.55</td>\n",
       "      <td>3617</td>\n",
       "      <td>70.87</td>\n",
       "      <td>35.2</td>\n",
       "      <td>9517</td>\n",
       "      <td>bc</td>\n",
       "    </tr>\n",
       "  </tbody>\n",
       "</table>\n",
       "<p>102 rows × 7 columns</p>\n",
       "</div>"
      ],
      "text/plain": [
       "               ocupacion  educacion  ingreso  mujeres  prestigio  censo  tipo\n",
       "0     GOV.ADMINISTRATORS      13.11    12351    11.16       68.8   1113  prof\n",
       "1       GENERAL.MANAGERS      12.26    25879     4.02       69.1   1130  prof\n",
       "2            ACCOUNTANTS      12.77     9271    15.70       63.4   1171  prof\n",
       "3    PURCHASING.OFFICERS      11.42     8865     9.11       56.8   1175  prof\n",
       "4               CHEMISTS      14.62     8403    11.68       73.5   2111  prof\n",
       "..                   ...        ...      ...      ...        ...    ...   ...\n",
       "97           BUS.DRIVERS       7.58     5562     9.47       35.9   9171    bc\n",
       "98          TAXI.DRIVERS       7.93     4224     3.59       25.1   9173    bc\n",
       "99          LONGSHOREMEN       8.37     4753     0.00       26.1   9313    bc\n",
       "100          TYPESETTERS      10.00     6462    13.58       42.2   9511    bc\n",
       "101          BOOKBINDERS       8.55     3617    70.87       35.2   9517    bc\n",
       "\n",
       "[102 rows x 7 columns]"
      ]
     },
     "metadata": {},
     "output_type": "display_data"
    }
   ],
   "source": [
    "display(df)"
   ]
  },
  {
   "cell_type": "markdown",
   "metadata": {},
   "source": [
    "Ver cuántas ocupaciones diferentes hay."
   ]
  },
  {
   "cell_type": "code",
   "execution_count": 4,
   "metadata": {},
   "outputs": [
    {
     "name": "stdout",
     "output_type": "stream",
     "text": [
      "102\n"
     ]
    }
   ],
   "source": [
    "print(len(df[\"ocupacion\"].unique()))"
   ]
  },
  {
   "cell_type": "markdown",
   "metadata": {},
   "source": [
    "Como el conjunto de datos tiene 102 entradas y como el arreglo `df[\"ocupacion\"].unique()` tiene una longitud de 102 elementos, se concluye que no hay ocupaciones repetidas."
   ]
  },
  {
   "cell_type": "markdown",
   "metadata": {},
   "source": [
    "Imprimir las estadísticas principales de las variables numéricas."
   ]
  },
  {
   "cell_type": "code",
   "execution_count": 5,
   "metadata": {},
   "outputs": [
    {
     "data": {
      "text/html": [
       "<div>\n",
       "<style scoped>\n",
       "    .dataframe tbody tr th:only-of-type {\n",
       "        vertical-align: middle;\n",
       "    }\n",
       "\n",
       "    .dataframe tbody tr th {\n",
       "        vertical-align: top;\n",
       "    }\n",
       "\n",
       "    .dataframe thead th {\n",
       "        text-align: right;\n",
       "    }\n",
       "</style>\n",
       "<table border=\"1\" class=\"dataframe\">\n",
       "  <thead>\n",
       "    <tr style=\"text-align: right;\">\n",
       "      <th></th>\n",
       "      <th>educacion</th>\n",
       "      <th>ingreso</th>\n",
       "      <th>mujeres</th>\n",
       "      <th>prestigio</th>\n",
       "      <th>censo</th>\n",
       "    </tr>\n",
       "  </thead>\n",
       "  <tbody>\n",
       "    <tr>\n",
       "      <th>count</th>\n",
       "      <td>102.000000</td>\n",
       "      <td>102.000000</td>\n",
       "      <td>102.000000</td>\n",
       "      <td>102.000000</td>\n",
       "      <td>102.000000</td>\n",
       "    </tr>\n",
       "    <tr>\n",
       "      <th>mean</th>\n",
       "      <td>10.738039</td>\n",
       "      <td>6797.901961</td>\n",
       "      <td>28.979020</td>\n",
       "      <td>46.833333</td>\n",
       "      <td>5401.774510</td>\n",
       "    </tr>\n",
       "    <tr>\n",
       "      <th>std</th>\n",
       "      <td>2.728444</td>\n",
       "      <td>4245.922227</td>\n",
       "      <td>31.724931</td>\n",
       "      <td>17.204486</td>\n",
       "      <td>2644.993215</td>\n",
       "    </tr>\n",
       "    <tr>\n",
       "      <th>min</th>\n",
       "      <td>6.380000</td>\n",
       "      <td>611.000000</td>\n",
       "      <td>0.000000</td>\n",
       "      <td>14.800000</td>\n",
       "      <td>1113.000000</td>\n",
       "    </tr>\n",
       "    <tr>\n",
       "      <th>25%</th>\n",
       "      <td>8.445000</td>\n",
       "      <td>4106.000000</td>\n",
       "      <td>3.592500</td>\n",
       "      <td>35.225000</td>\n",
       "      <td>3120.500000</td>\n",
       "    </tr>\n",
       "    <tr>\n",
       "      <th>50%</th>\n",
       "      <td>10.540000</td>\n",
       "      <td>5930.500000</td>\n",
       "      <td>13.600000</td>\n",
       "      <td>43.600000</td>\n",
       "      <td>5135.000000</td>\n",
       "    </tr>\n",
       "    <tr>\n",
       "      <th>75%</th>\n",
       "      <td>12.647500</td>\n",
       "      <td>8187.250000</td>\n",
       "      <td>52.202500</td>\n",
       "      <td>59.275000</td>\n",
       "      <td>8312.500000</td>\n",
       "    </tr>\n",
       "    <tr>\n",
       "      <th>max</th>\n",
       "      <td>15.970000</td>\n",
       "      <td>25879.000000</td>\n",
       "      <td>97.510000</td>\n",
       "      <td>87.200000</td>\n",
       "      <td>9517.000000</td>\n",
       "    </tr>\n",
       "  </tbody>\n",
       "</table>\n",
       "</div>"
      ],
      "text/plain": [
       "        educacion       ingreso     mujeres   prestigio        censo\n",
       "count  102.000000    102.000000  102.000000  102.000000   102.000000\n",
       "mean    10.738039   6797.901961   28.979020   46.833333  5401.774510\n",
       "std      2.728444   4245.922227   31.724931   17.204486  2644.993215\n",
       "min      6.380000    611.000000    0.000000   14.800000  1113.000000\n",
       "25%      8.445000   4106.000000    3.592500   35.225000  3120.500000\n",
       "50%     10.540000   5930.500000   13.600000   43.600000  5135.000000\n",
       "75%     12.647500   8187.250000   52.202500   59.275000  8312.500000\n",
       "max     15.970000  25879.000000   97.510000   87.200000  9517.000000"
      ]
     },
     "metadata": {},
     "output_type": "display_data"
    }
   ],
   "source": [
    "display(df.describe())"
   ]
  }
 ],
 "metadata": {
  "kernelspec": {
   "display_name": "Python 3",
   "language": "python",
   "name": "python3"
  },
  "language_info": {
   "codemirror_mode": {
    "name": "ipython",
    "version": 3
   },
   "file_extension": ".py",
   "mimetype": "text/x-python",
   "name": "python",
   "nbconvert_exporter": "python",
   "pygments_lexer": "ipython3",
   "version": "3.8.3"
  }
 },
 "nbformat": 4,
 "nbformat_minor": 4
}
